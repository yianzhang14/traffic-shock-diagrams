{
 "cells": [
  {
   "cell_type": "code",
   "execution_count": 39,
   "metadata": {},
   "outputs": [],
   "source": [
    "MPH_TO_MPS = 0.44704\n",
    "\n",
    "SPACING = 10  # meters\n",
    "TIME_BETWEEN = 1  # seconds\n",
    "SPEED = 60 * MPH_TO_MPS  # meters per second\n",
    "\n",
    "GRANULARITY = 0.5  # base simulation speed in seconds\n",
    "\n",
    "SIMULATION_TIME = 10  # how long to run the simulation\n",
    "\n",
    "SEED = 42"
   ]
  },
  {
   "cell_type": "code",
   "execution_count": 40,
   "metadata": {},
   "outputs": [],
   "source": [
    "assert(True)  # TODO: ensure valid global constants"
   ]
  },
  {
   "cell_type": "code",
   "execution_count": 41,
   "metadata": {},
   "outputs": [],
   "source": [
    "import simpy\n",
    "import pandas as pd\n",
    "import matplotlib.pyplot as plt\n",
    "import seaborn as sns\n",
    "import random\n",
    "import math\n",
    "import itertools\n",
    "from sortedcontainers import SortedSet\n",
    "from dataclasses import dataclass\n",
    "import plotly.express as px"
   ]
  },
  {
   "cell_type": "code",
   "execution_count": 42,
   "metadata": {},
   "outputs": [],
   "source": [
    "class CarCreationFailedError(Exception):\n",
    "    def __init__(self, message):\n",
    "        super().__init__(message)\n",
    "\n",
    "# TODO: if granularity is too large (w.r.t. some other constants?), the assertion breaks\n",
    "class PositionHandler():\n",
    "    \n",
    "    def __init__(self):\n",
    "        self.positions = SortedSet()\n",
    "        self.blockers = SortedSet()\n",
    "        \n",
    "    def add_blocker(self, pos: float):\n",
    "        assert pos not in self.blockers\n",
    "        self.blockers.add(pos)\n",
    "        \n",
    "    def remove_blocker(self, pos: float):\n",
    "        self.blockers.remove(pos)\n",
    "        \n",
    "    def reserve_init(self, pos: float):\n",
    "        if pos in self.positions:\n",
    "            raise CarCreationFailedError(\"cannot spawn car\")\n",
    "        \n",
    "        self._add(pos)\n",
    "        \n",
    "    def _find_next_blocker(self, pos: float) -> float:\n",
    "        idx: int = self.blockers.bisect_left(pos)\n",
    "        \n",
    "        if idx == len(self.blockers):\n",
    "            return float(\"inf\")\n",
    "        \n",
    "        return self.blockers[idx]\n",
    "        \n",
    "    def reserve(self, old: float, new: float) -> float:\n",
    "        # blocker check\n",
    "        # if the next blocker changes between old/new, that means we passed a blocker\n",
    "        before: float = self._find_next_blocker(old)\n",
    "        after: float = self._find_next_blocker(new)\n",
    "        \n",
    "        # if the blocker distances are not close (i.e., they are different blockers),\n",
    "        # then we set the new target distance to before, where the blocker is since this car cannot go past that\n",
    "        if not math.isclose(before, after):\n",
    "            new = before\n",
    "        \n",
    "        # overlapping cars check\n",
    "        next: float = self._check(new)\n",
    "        \n",
    "        if next == new:\n",
    "            return old\n",
    "        elif next - new < SPACING:\n",
    "            new: float = next - SPACING\n",
    "\n",
    "        self._free(old)\n",
    "        self._add(new)\n",
    "        \n",
    "        return new\n",
    "        \n",
    "    def _add(self, position: float) -> None:\n",
    "        assert(position not in self.positions)\n",
    "        self.positions.add(position)\n",
    "        \n",
    "    def _check(self, position: float) -> float:\n",
    "        idx: int = self.positions.bisect_left(position)\n",
    "        \n",
    "        if idx == len(self.positions):\n",
    "            return float(\"inf\")\n",
    "        \n",
    "        return self.positions[idx]\n",
    "    \n",
    "    def _free(self, position: float) -> None:\n",
    "        self.positions.remove(position)"
   ]
  },
  {
   "cell_type": "markdown",
   "metadata": {},
   "source": [
    "traffic light limitations currently:\n",
    "\n",
    "- assuming an infinitesimally small traffic light (i.e., car passes a traffic light immediately--there is no gap to travel)\n",
    "    - actually am assuming any obstacles would be like this\n",
    "- possibly off by GRANULARITY depending on if the traffic light event switch happens before or after the cars at the same time\n",
    "    - i think if we just start it first it should always have precedence"
   ]
  },
  {
   "cell_type": "code",
   "execution_count": 43,
   "metadata": {},
   "outputs": [],
   "source": [
    "class TrafficLight():\n",
    "    id: int = 0\n",
    "    \n",
    "    def __init__(self, env: simpy.Environment, pos: float, cycles: tuple[float, ...], state: int, blocking_states: tuple[bool, ...], handler: PositionHandler):\n",
    "        self.pos = pos  # where the traffic light is\n",
    "        self.cycles: tuple[float, ...] = cycles  # list of the delays of each of the cycles\n",
    "        self.state: bool = state  # initial state -- an index for self.cycles\n",
    "        self.blocking_states = blocking_states  # list of whether each corresponding cycle is blocking or not\n",
    "        \n",
    "        assert self.state < len(self.cycles) and self.state >= 0\n",
    "        assert len(blocking_states) == len(cycles)\n",
    "        \n",
    "        self.id = TrafficLight.id\n",
    "        TrafficLight.id += 1\n",
    "        \n",
    "        self.handler: PositionHandler = handler\n",
    "            \n",
    "        self.env: simpy.Environment = env\n",
    "        self.action = self.env.process(self.run())\n",
    "        \n",
    "    def run(self) -> None:\n",
    "        while True:\n",
    "            if self.blocking_states[self.state]:\n",
    "                self.handler.add_blocker(self.pos)\n",
    "            \n",
    "            yield self.env.timeout(self.cycles[self.state])\n",
    "            \n",
    "            if self.blocking_states[self.state]:\n",
    "                self.handler.remove_blocker(self.pos)\n",
    "            \n",
    "            self.state = (self.state + 1) % len(self.cycles)"
   ]
  },
  {
   "cell_type": "code",
   "execution_count": 44,
   "metadata": {},
   "outputs": [],
   "source": [
    "@dataclass\n",
    "class HistoryEntry:\n",
    "    id: int\n",
    "    time: float\n",
    "    position: float\n",
    "    \n",
    "    def __init__(self, id: int, time: float, position: float):\n",
    "        self.id = id\n",
    "        self.time = time\n",
    "        self.position = position\n",
    "        \n",
    "    def unpack(self) -> tuple[int, float, float]:\n",
    "        return (self.id, self.time, self.position)\n",
    "    \n",
    "    def get_ordering() -> tuple[str, str, str]:\n",
    "        return [\"id\", \"time\", \"position\"]\n",
    "\n",
    "class Car():\n",
    "    \n",
    "    counter: int = 0\n",
    "    \n",
    "    def __init__(self, env: simpy.Environment, positions: PositionHandler, init_pos: int=0, max_speed: float=SPEED):\n",
    "        positions.reserve_init(init_pos)  # assume this always works, error handle outside\n",
    "        \n",
    "        # start position at the given init_pos (0)\n",
    "        self.pos: float = init_pos\n",
    "        # set initial and max speed possible\n",
    "        self.max_speed: float = max_speed\n",
    "        self.speed: float = max_speed\n",
    "        \n",
    "        # give the current car an id\n",
    "        self.id: int = Car.counter\n",
    "        Car.counter += 1\n",
    "        \n",
    "        # variable to track a history of the points that compose the lines that the car traverses in the position-time plot\n",
    "        self.history: list[HistoryEntry] = [HistoryEntry(self.id, env.now, self.pos)]\n",
    "        \n",
    "        # get a reference to the position tracker\n",
    "        self.positions: PositionHandler = positions\n",
    "        \n",
    "        # store reference to simpy environment\n",
    "        self.env: simpy.Environment = env\n",
    "        # define the action for the simpy environment\n",
    "        self.action = self.env.process(self.run())\n",
    "        \n",
    "    def update_history(self, id: int, time: float, pos: float) -> None:\n",
    "        # TODO: possibly normalize stoppings to stop intermediate shifts in speed (assuming instantaneous braking without any change in speed)\n",
    "        \n",
    "        entry = HistoryEntry(id, time, pos)\n",
    "        \n",
    "        if len(self.history) <= 1 or (pos == self.history[-1].position and time == self.history[-1].time):\n",
    "            self.history.append(entry)\n",
    "            return\n",
    "        \n",
    "        old_slope: float = (self.history[-1].position - self.history[-2].position) / (self.history[-1].time - self.history[-2].time)\n",
    "        new_slope: float = (pos - self.history[-1].position) / (time - self.history[-1].time)\n",
    "        \n",
    "        if math.isclose(old_slope, new_slope):\n",
    "            self.history[-1] = entry\n",
    "        else:\n",
    "            self.history.append(entry)\n",
    "        \n",
    "    def run(self):\n",
    "        while True:\n",
    "            yield self.env.timeout(GRANULARITY)\n",
    "            \n",
    "            target_pos: float = self.pos + self.max_speed * GRANULARITY\n",
    "            actual_pos: float = self.positions.reserve(self.pos, target_pos)\n",
    "            \n",
    "            self.pos = actual_pos\n",
    "            self.update_history(self.id, self.env.now, actual_pos)\n",
    "            \n",
    "    def __str__(self) -> str:\n",
    "        return f\"Car with id {self.id} at location {self.pos}\""
   ]
  },
  {
   "cell_type": "code",
   "execution_count": 45,
   "metadata": {},
   "outputs": [],
   "source": [
    "cars = []\n",
    "lights = []\n",
    "handler = PositionHandler()\n",
    "\n",
    "def start_simulation(env: simpy.Environment):\n",
    "    \n",
    "    lights.append(TrafficLight(env, 100, [5, 5], 0, [0, 1], handler))\n",
    "    \n",
    "    yield env.timeout(GRANULARITY)\n",
    "    \n",
    "    while True:\n",
    "        try:\n",
    "            c = Car(env, handler)\n",
    "\n",
    "            # env.process(c)\n",
    "            cars.append(c)\n",
    "        except CarCreationFailedError:\n",
    "            pass\n",
    "        \n",
    "        yield env.timeout(TIME_BETWEEN)"
   ]
  },
  {
   "cell_type": "code",
   "execution_count": 46,
   "metadata": {},
   "outputs": [
    {
     "name": "stdout",
     "output_type": "stream",
     "text": [
      "SortedSet([])\n",
      "SortedSet([])\n",
      "SortedSet([13.4112])\n",
      "SortedSet([0])\n",
      "SortedSet([26.8224])\n",
      "SortedSet([13.4112])\n",
      "SortedSet([13.4112, 40.233599999999996])\n",
      "SortedSet([0, 40.233599999999996])\n",
      "SortedSet([0, 26.8224])\n",
      "SortedSet([26.8224, 53.6448])\n",
      "SortedSet([13.4112, 53.6448])\n",
      "SortedSet([13.4112, 40.233599999999996])\n",
      "SortedSet([13.4112, 40.233599999999996, 67.056])\n",
      "SortedSet([0, 40.233599999999996, 67.056])\n",
      "SortedSet([0, 26.8224, 67.056])\n",
      "SortedSet([0, 26.8224, 53.6448])\n",
      "SortedSet([26.8224, 53.6448, 80.46719999999999])\n",
      "SortedSet([13.4112, 53.6448, 80.46719999999999])\n",
      "SortedSet([13.4112, 40.233599999999996, 80.46719999999999])\n",
      "SortedSet([13.4112, 40.233599999999996, 67.056])\n",
      "SortedSet([13.4112, 40.233599999999996, 67.056, 93.87839999999998])\n",
      "SortedSet([0, 40.233599999999996, 67.056, 93.87839999999998])\n",
      "SortedSet([0, 26.8224, 67.056, 93.87839999999998])\n",
      "SortedSet([0, 26.8224, 53.6448, 93.87839999999998])\n",
      "SortedSet([0, 26.8224, 53.6448, 80.46719999999999])\n",
      "SortedSet([26.8224, 53.6448, 80.46719999999999, 107.28959999999998])\n",
      "SortedSet([13.4112, 53.6448, 80.46719999999999, 107.28959999999998])\n",
      "SortedSet([13.4112, 40.233599999999996, 80.46719999999999, 107.28959999999998])\n",
      "SortedSet([13.4112, 40.233599999999996, 67.056, 107.28959999999998])\n",
      "SortedSet([13.4112, 40.233599999999996, 67.056, 93.87839999999998])\n",
      "SortedSet([13.4112, 40.233599999999996, 67.056, 93.87839999999998, 120.70079999999997])\n",
      "SortedSet([0, 40.233599999999996, 67.056, 93.87839999999998, 120.70079999999997])\n",
      "SortedSet([0, 26.8224, 67.056, 93.87839999999998, 120.70079999999997])\n",
      "SortedSet([0, 26.8224, 53.6448, 93.87839999999998, 120.70079999999997])\n",
      "SortedSet([0, 26.8224, 53.6448, 80.46719999999999, 120.70079999999997])\n",
      "SortedSet([0, 26.8224, 53.6448, 80.46719999999999, 100])\n",
      "SortedSet([26.8224, 53.6448, 80.46719999999999, 100, 134.11199999999997])\n",
      "SortedSet([13.4112, 53.6448, 80.46719999999999, 100, 134.11199999999997])\n",
      "SortedSet([13.4112, 40.233599999999996, 80.46719999999999, 100, 134.11199999999997])\n",
      "SortedSet([13.4112, 40.233599999999996, 67.056, 100, 134.11199999999997])\n",
      "SortedSet([13.4112, 40.233599999999996, 67.056, 90, 100])\n",
      "SortedSet([13.4112, 40.233599999999996, 67.056, 90, 100, 147.52319999999997])\n",
      "SortedSet([0, 40.233599999999996, 67.056, 90, 100, 147.52319999999997])\n",
      "SortedSet([0, 26.8224, 67.056, 90, 100, 147.52319999999997])\n",
      "SortedSet([0, 26.8224, 53.6448, 90, 100, 147.52319999999997])\n",
      "SortedSet([0, 26.8224, 53.6448, 80, 90, 100])\n",
      "SortedSet([26.8224, 53.6448, 80, 90, 100, 160.93439999999998])\n",
      "SortedSet([13.4112, 53.6448, 80, 90, 100, 160.93439999999998])\n",
      "SortedSet([13.4112, 40.233599999999996, 80, 90, 100, 160.93439999999998])\n",
      "SortedSet([13.4112, 40.233599999999996, 67.056, 90, 100, 160.93439999999998])\n",
      "SortedSet([13.4112, 40.233599999999996, 67.056, 90, 100])\n"
     ]
    },
    {
     "ename": "AssertionError",
     "evalue": "",
     "output_type": "error",
     "traceback": [
      "\u001b[1;31m---------------------------------------------------------------------------\u001b[0m",
      "\u001b[1;31mAssertionError\u001b[0m                            Traceback (most recent call last)",
      "Cell \u001b[1;32mIn[44], line 68\u001b[0m, in \u001b[0;36mCar.run\u001b[1;34m(self)\u001b[0m\n\u001b[0;32m     67\u001b[0m target_pos: \u001b[38;5;28mfloat\u001b[39m \u001b[38;5;241m=\u001b[39m \u001b[38;5;28mself\u001b[39m\u001b[38;5;241m.\u001b[39mpos \u001b[38;5;241m+\u001b[39m \u001b[38;5;28mself\u001b[39m\u001b[38;5;241m.\u001b[39mmax_speed \u001b[38;5;241m*\u001b[39m GRANULARITY\n\u001b[1;32m---> 68\u001b[0m actual_pos: \u001b[38;5;28mfloat\u001b[39m \u001b[38;5;241m=\u001b[39m \u001b[38;5;28;43mself\u001b[39;49m\u001b[38;5;241;43m.\u001b[39;49m\u001b[43mpositions\u001b[49m\u001b[38;5;241;43m.\u001b[39;49m\u001b[43mreserve\u001b[49m\u001b[43m(\u001b[49m\u001b[38;5;28;43mself\u001b[39;49m\u001b[38;5;241;43m.\u001b[39;49m\u001b[43mpos\u001b[49m\u001b[43m,\u001b[49m\u001b[43m \u001b[49m\u001b[43mtarget_pos\u001b[49m\u001b[43m)\u001b[49m\n\u001b[0;32m     70\u001b[0m \u001b[38;5;28mself\u001b[39m\u001b[38;5;241m.\u001b[39mpos \u001b[38;5;241m=\u001b[39m actual_pos\n",
      "Cell \u001b[1;32mIn[42], line 52\u001b[0m, in \u001b[0;36mPositionHandler.reserve\u001b[1;34m(self, old, new)\u001b[0m\n\u001b[0;32m     51\u001b[0m \u001b[38;5;28mself\u001b[39m\u001b[38;5;241m.\u001b[39m_free(old)\n\u001b[1;32m---> 52\u001b[0m \u001b[38;5;28;43mself\u001b[39;49m\u001b[38;5;241;43m.\u001b[39;49m\u001b[43m_add\u001b[49m\u001b[43m(\u001b[49m\u001b[43mnew\u001b[49m\u001b[43m)\u001b[49m\n\u001b[0;32m     54\u001b[0m \u001b[38;5;28;01mreturn\u001b[39;00m new\n",
      "Cell \u001b[1;32mIn[42], line 58\u001b[0m, in \u001b[0;36mPositionHandler._add\u001b[1;34m(self, position)\u001b[0m\n\u001b[0;32m     57\u001b[0m \u001b[38;5;28mprint\u001b[39m(\u001b[38;5;28mself\u001b[39m\u001b[38;5;241m.\u001b[39mpositions)\n\u001b[1;32m---> 58\u001b[0m \u001b[38;5;28;01massert\u001b[39;00m(position \u001b[38;5;129;01mnot\u001b[39;00m \u001b[38;5;129;01min\u001b[39;00m \u001b[38;5;28mself\u001b[39m\u001b[38;5;241m.\u001b[39mpositions)\n\u001b[0;32m     59\u001b[0m \u001b[38;5;28mself\u001b[39m\u001b[38;5;241m.\u001b[39mpositions\u001b[38;5;241m.\u001b[39madd(position)\n",
      "\u001b[1;31mAssertionError\u001b[0m: ",
      "\nThe above exception was the direct cause of the following exception:\n",
      "\u001b[1;31mAssertionError\u001b[0m                            Traceback (most recent call last)",
      "Cell \u001b[1;32mIn[46], line 5\u001b[0m\n\u001b[0;32m      2\u001b[0m env \u001b[38;5;241m=\u001b[39m simpy\u001b[38;5;241m.\u001b[39mEnvironment()\n\u001b[0;32m      4\u001b[0m env\u001b[38;5;241m.\u001b[39mprocess(start_simulation(env))\n\u001b[1;32m----> 5\u001b[0m \u001b[43menv\u001b[49m\u001b[38;5;241;43m.\u001b[39;49m\u001b[43mrun\u001b[49m\u001b[43m(\u001b[49m\u001b[43muntil\u001b[49m\u001b[38;5;241;43m=\u001b[39;49m\u001b[43mSIMULATION_TIME\u001b[49m\u001b[43m)\u001b[49m\n",
      "File \u001b[1;32md:\\mambaforge\\envs\\traffic\\lib\\site-packages\\simpy\\core.py:246\u001b[0m, in \u001b[0;36mEnvironment.run\u001b[1;34m(self, until)\u001b[0m\n\u001b[0;32m    244\u001b[0m \u001b[38;5;28;01mtry\u001b[39;00m:\n\u001b[0;32m    245\u001b[0m     \u001b[38;5;28;01mwhile\u001b[39;00m \u001b[38;5;28;01mTrue\u001b[39;00m:\n\u001b[1;32m--> 246\u001b[0m         \u001b[38;5;28;43mself\u001b[39;49m\u001b[38;5;241;43m.\u001b[39;49m\u001b[43mstep\u001b[49m\u001b[43m(\u001b[49m\u001b[43m)\u001b[49m\n\u001b[0;32m    247\u001b[0m \u001b[38;5;28;01mexcept\u001b[39;00m StopSimulation \u001b[38;5;28;01mas\u001b[39;00m exc:\n\u001b[0;32m    248\u001b[0m     \u001b[38;5;28;01mreturn\u001b[39;00m exc\u001b[38;5;241m.\u001b[39margs[\u001b[38;5;241m0\u001b[39m]  \u001b[38;5;66;03m# == until.value\u001b[39;00m\n",
      "File \u001b[1;32md:\\mambaforge\\envs\\traffic\\lib\\site-packages\\simpy\\core.py:204\u001b[0m, in \u001b[0;36mEnvironment.step\u001b[1;34m(self)\u001b[0m\n\u001b[0;32m    202\u001b[0m exc \u001b[38;5;241m=\u001b[39m \u001b[38;5;28mtype\u001b[39m(event\u001b[38;5;241m.\u001b[39m_value)(\u001b[38;5;241m*\u001b[39mevent\u001b[38;5;241m.\u001b[39m_value\u001b[38;5;241m.\u001b[39margs)\n\u001b[0;32m    203\u001b[0m exc\u001b[38;5;241m.\u001b[39m__cause__ \u001b[38;5;241m=\u001b[39m event\u001b[38;5;241m.\u001b[39m_value\n\u001b[1;32m--> 204\u001b[0m \u001b[38;5;28;01mraise\u001b[39;00m exc\n",
      "\u001b[1;31mAssertionError\u001b[0m: "
     ]
    }
   ],
   "source": [
    "random.seed(SEED)\n",
    "env = simpy.Environment()\n",
    "\n",
    "env.process(start_simulation(env))\n",
    "env.run(until=SIMULATION_TIME)"
   ]
  },
  {
   "cell_type": "code",
   "execution_count": 47,
   "metadata": {},
   "outputs": [],
   "source": [
    "import matplotlib.axes._axes as axes\n",
    "\n",
    "def display_dt_diagram(cars: list[Car], lights: list[TrafficLight]):\n",
    "    # fig, ax = plt.subplots(figsize=(10, 7))\n",
    "    # ax: axes.Axes\n",
    "    \n",
    "    df = pd.DataFrame(list(itertools.chain(*[[x.unpack() for x in car.history] for car in cars])), columns=HistoryEntry.get_ordering())\n",
    "    \n",
    "    # sns.lineplot(data=df, x=\"time\", y=\"position\", hue=\"id\", ax=ax, palette=sns.color_palette(n_colors=1))\n",
    "    # ax.get_legend().remove()\n",
    "    \n",
    "    # ax.hlines([light.pos for light in lights], xmin=ax.get_xlim()[0], xmax=ax.get_xlim()[1], linestyles=\"dotted\", colors=\"0.8\")\n",
    "    \n",
    "    # return fig, ax\n",
    "    \n",
    "    fig = px.line(df, x=\"time\", y=\"position\", color=\"id\")\n",
    "    fig.update_layout(\n",
    "        showlegend=False\n",
    "    )\n",
    "    \n",
    "    return fig"
   ]
  },
  {
   "cell_type": "code",
   "execution_count": 48,
   "metadata": {},
   "outputs": [
    {
     "name": "stderr",
     "output_type": "stream",
     "text": [
      "d:\\mambaforge\\envs\\traffic\\lib\\site-packages\\plotly\\express\\_core.py:2065: FutureWarning:\n",
      "\n",
      "When grouping with a length-1 list-like, you will need to pass a length-1 tuple to get_group in a future version of pandas. Pass `(name,)` instead of `name` to silence this warning.\n",
      "\n"
     ]
    },
    {
     "data": {
      "application/vnd.plotly.v1+json": {
       "config": {
        "plotlyServerURL": "https://plot.ly"
       },
       "data": [
        {
         "hovertemplate": "id=0<br>time=%{x}<br>position=%{y}<extra></extra>",
         "legendgroup": "0",
         "line": {
          "color": "#636efa",
          "dash": "solid"
         },
         "marker": {
          "symbol": "circle"
         },
         "mode": "lines",
         "name": "0",
         "orientation": "v",
         "showlegend": true,
         "type": "scatter",
         "x": [
          0.5,
          7
         ],
         "xaxis": "x",
         "y": [
          0,
          174.3456
         ],
         "yaxis": "y"
        },
        {
         "hovertemplate": "id=1<br>time=%{x}<br>position=%{y}<extra></extra>",
         "legendgroup": "1",
         "line": {
          "color": "#EF553B",
          "dash": "solid"
         },
         "marker": {
          "symbol": "circle"
         },
         "mode": "lines",
         "name": "1",
         "orientation": "v",
         "showlegend": true,
         "type": "scatter",
         "x": [
          1.5,
          5,
          5.5,
          7
         ],
         "xaxis": "x",
         "y": [
          0,
          93.87839999999998,
          100,
          100
         ],
         "yaxis": "y"
        },
        {
         "hovertemplate": "id=2<br>time=%{x}<br>position=%{y}<extra></extra>",
         "legendgroup": "2",
         "line": {
          "color": "#00cc96",
          "dash": "solid"
         },
         "marker": {
          "symbol": "circle"
         },
         "mode": "lines",
         "name": "2",
         "orientation": "v",
         "showlegend": true,
         "type": "scatter",
         "x": [
          2.5,
          5.5,
          6,
          7
         ],
         "xaxis": "x",
         "y": [
          0,
          80.46719999999999,
          90,
          90
         ],
         "yaxis": "y"
        },
        {
         "hovertemplate": "id=3<br>time=%{x}<br>position=%{y}<extra></extra>",
         "legendgroup": "3",
         "line": {
          "color": "#ab63fa",
          "dash": "solid"
         },
         "marker": {
          "symbol": "circle"
         },
         "mode": "lines",
         "name": "3",
         "orientation": "v",
         "showlegend": true,
         "type": "scatter",
         "x": [
          3.5,
          6,
          6.5
         ],
         "xaxis": "x",
         "y": [
          0,
          67.056,
          80
         ],
         "yaxis": "y"
        },
        {
         "hovertemplate": "id=4<br>time=%{x}<br>position=%{y}<extra></extra>",
         "legendgroup": "4",
         "line": {
          "color": "#FFA15A",
          "dash": "solid"
         },
         "marker": {
          "symbol": "circle"
         },
         "mode": "lines",
         "name": "4",
         "orientation": "v",
         "showlegend": true,
         "type": "scatter",
         "x": [
          4.5,
          7
         ],
         "xaxis": "x",
         "y": [
          0,
          67.056
         ],
         "yaxis": "y"
        },
        {
         "hovertemplate": "id=5<br>time=%{x}<br>position=%{y}<extra></extra>",
         "legendgroup": "5",
         "line": {
          "color": "#19d3f3",
          "dash": "solid"
         },
         "marker": {
          "symbol": "circle"
         },
         "mode": "lines",
         "name": "5",
         "orientation": "v",
         "showlegend": true,
         "type": "scatter",
         "x": [
          5.5,
          7
         ],
         "xaxis": "x",
         "y": [
          0,
          40.233599999999996
         ],
         "yaxis": "y"
        },
        {
         "hovertemplate": "id=6<br>time=%{x}<br>position=%{y}<extra></extra>",
         "legendgroup": "6",
         "line": {
          "color": "#FF6692",
          "dash": "solid"
         },
         "marker": {
          "symbol": "circle"
         },
         "mode": "lines",
         "name": "6",
         "orientation": "v",
         "showlegend": true,
         "type": "scatter",
         "x": [
          6.5,
          7
         ],
         "xaxis": "x",
         "y": [
          0,
          13.4112
         ],
         "yaxis": "y"
        }
       ],
       "layout": {
        "legend": {
         "title": {
          "text": "id"
         },
         "tracegroupgap": 0
        },
        "margin": {
         "t": 60
        },
        "showlegend": false,
        "template": {
         "data": {
          "bar": [
           {
            "error_x": {
             "color": "#2a3f5f"
            },
            "error_y": {
             "color": "#2a3f5f"
            },
            "marker": {
             "line": {
              "color": "#E5ECF6",
              "width": 0.5
             },
             "pattern": {
              "fillmode": "overlay",
              "size": 10,
              "solidity": 0.2
             }
            },
            "type": "bar"
           }
          ],
          "barpolar": [
           {
            "marker": {
             "line": {
              "color": "#E5ECF6",
              "width": 0.5
             },
             "pattern": {
              "fillmode": "overlay",
              "size": 10,
              "solidity": 0.2
             }
            },
            "type": "barpolar"
           }
          ],
          "carpet": [
           {
            "aaxis": {
             "endlinecolor": "#2a3f5f",
             "gridcolor": "white",
             "linecolor": "white",
             "minorgridcolor": "white",
             "startlinecolor": "#2a3f5f"
            },
            "baxis": {
             "endlinecolor": "#2a3f5f",
             "gridcolor": "white",
             "linecolor": "white",
             "minorgridcolor": "white",
             "startlinecolor": "#2a3f5f"
            },
            "type": "carpet"
           }
          ],
          "choropleth": [
           {
            "colorbar": {
             "outlinewidth": 0,
             "ticks": ""
            },
            "type": "choropleth"
           }
          ],
          "contour": [
           {
            "colorbar": {
             "outlinewidth": 0,
             "ticks": ""
            },
            "colorscale": [
             [
              0,
              "#0d0887"
             ],
             [
              0.1111111111111111,
              "#46039f"
             ],
             [
              0.2222222222222222,
              "#7201a8"
             ],
             [
              0.3333333333333333,
              "#9c179e"
             ],
             [
              0.4444444444444444,
              "#bd3786"
             ],
             [
              0.5555555555555556,
              "#d8576b"
             ],
             [
              0.6666666666666666,
              "#ed7953"
             ],
             [
              0.7777777777777778,
              "#fb9f3a"
             ],
             [
              0.8888888888888888,
              "#fdca26"
             ],
             [
              1,
              "#f0f921"
             ]
            ],
            "type": "contour"
           }
          ],
          "contourcarpet": [
           {
            "colorbar": {
             "outlinewidth": 0,
             "ticks": ""
            },
            "type": "contourcarpet"
           }
          ],
          "heatmap": [
           {
            "colorbar": {
             "outlinewidth": 0,
             "ticks": ""
            },
            "colorscale": [
             [
              0,
              "#0d0887"
             ],
             [
              0.1111111111111111,
              "#46039f"
             ],
             [
              0.2222222222222222,
              "#7201a8"
             ],
             [
              0.3333333333333333,
              "#9c179e"
             ],
             [
              0.4444444444444444,
              "#bd3786"
             ],
             [
              0.5555555555555556,
              "#d8576b"
             ],
             [
              0.6666666666666666,
              "#ed7953"
             ],
             [
              0.7777777777777778,
              "#fb9f3a"
             ],
             [
              0.8888888888888888,
              "#fdca26"
             ],
             [
              1,
              "#f0f921"
             ]
            ],
            "type": "heatmap"
           }
          ],
          "heatmapgl": [
           {
            "colorbar": {
             "outlinewidth": 0,
             "ticks": ""
            },
            "colorscale": [
             [
              0,
              "#0d0887"
             ],
             [
              0.1111111111111111,
              "#46039f"
             ],
             [
              0.2222222222222222,
              "#7201a8"
             ],
             [
              0.3333333333333333,
              "#9c179e"
             ],
             [
              0.4444444444444444,
              "#bd3786"
             ],
             [
              0.5555555555555556,
              "#d8576b"
             ],
             [
              0.6666666666666666,
              "#ed7953"
             ],
             [
              0.7777777777777778,
              "#fb9f3a"
             ],
             [
              0.8888888888888888,
              "#fdca26"
             ],
             [
              1,
              "#f0f921"
             ]
            ],
            "type": "heatmapgl"
           }
          ],
          "histogram": [
           {
            "marker": {
             "pattern": {
              "fillmode": "overlay",
              "size": 10,
              "solidity": 0.2
             }
            },
            "type": "histogram"
           }
          ],
          "histogram2d": [
           {
            "colorbar": {
             "outlinewidth": 0,
             "ticks": ""
            },
            "colorscale": [
             [
              0,
              "#0d0887"
             ],
             [
              0.1111111111111111,
              "#46039f"
             ],
             [
              0.2222222222222222,
              "#7201a8"
             ],
             [
              0.3333333333333333,
              "#9c179e"
             ],
             [
              0.4444444444444444,
              "#bd3786"
             ],
             [
              0.5555555555555556,
              "#d8576b"
             ],
             [
              0.6666666666666666,
              "#ed7953"
             ],
             [
              0.7777777777777778,
              "#fb9f3a"
             ],
             [
              0.8888888888888888,
              "#fdca26"
             ],
             [
              1,
              "#f0f921"
             ]
            ],
            "type": "histogram2d"
           }
          ],
          "histogram2dcontour": [
           {
            "colorbar": {
             "outlinewidth": 0,
             "ticks": ""
            },
            "colorscale": [
             [
              0,
              "#0d0887"
             ],
             [
              0.1111111111111111,
              "#46039f"
             ],
             [
              0.2222222222222222,
              "#7201a8"
             ],
             [
              0.3333333333333333,
              "#9c179e"
             ],
             [
              0.4444444444444444,
              "#bd3786"
             ],
             [
              0.5555555555555556,
              "#d8576b"
             ],
             [
              0.6666666666666666,
              "#ed7953"
             ],
             [
              0.7777777777777778,
              "#fb9f3a"
             ],
             [
              0.8888888888888888,
              "#fdca26"
             ],
             [
              1,
              "#f0f921"
             ]
            ],
            "type": "histogram2dcontour"
           }
          ],
          "mesh3d": [
           {
            "colorbar": {
             "outlinewidth": 0,
             "ticks": ""
            },
            "type": "mesh3d"
           }
          ],
          "parcoords": [
           {
            "line": {
             "colorbar": {
              "outlinewidth": 0,
              "ticks": ""
             }
            },
            "type": "parcoords"
           }
          ],
          "pie": [
           {
            "automargin": true,
            "type": "pie"
           }
          ],
          "scatter": [
           {
            "fillpattern": {
             "fillmode": "overlay",
             "size": 10,
             "solidity": 0.2
            },
            "type": "scatter"
           }
          ],
          "scatter3d": [
           {
            "line": {
             "colorbar": {
              "outlinewidth": 0,
              "ticks": ""
             }
            },
            "marker": {
             "colorbar": {
              "outlinewidth": 0,
              "ticks": ""
             }
            },
            "type": "scatter3d"
           }
          ],
          "scattercarpet": [
           {
            "marker": {
             "colorbar": {
              "outlinewidth": 0,
              "ticks": ""
             }
            },
            "type": "scattercarpet"
           }
          ],
          "scattergeo": [
           {
            "marker": {
             "colorbar": {
              "outlinewidth": 0,
              "ticks": ""
             }
            },
            "type": "scattergeo"
           }
          ],
          "scattergl": [
           {
            "marker": {
             "colorbar": {
              "outlinewidth": 0,
              "ticks": ""
             }
            },
            "type": "scattergl"
           }
          ],
          "scattermapbox": [
           {
            "marker": {
             "colorbar": {
              "outlinewidth": 0,
              "ticks": ""
             }
            },
            "type": "scattermapbox"
           }
          ],
          "scatterpolar": [
           {
            "marker": {
             "colorbar": {
              "outlinewidth": 0,
              "ticks": ""
             }
            },
            "type": "scatterpolar"
           }
          ],
          "scatterpolargl": [
           {
            "marker": {
             "colorbar": {
              "outlinewidth": 0,
              "ticks": ""
             }
            },
            "type": "scatterpolargl"
           }
          ],
          "scatterternary": [
           {
            "marker": {
             "colorbar": {
              "outlinewidth": 0,
              "ticks": ""
             }
            },
            "type": "scatterternary"
           }
          ],
          "surface": [
           {
            "colorbar": {
             "outlinewidth": 0,
             "ticks": ""
            },
            "colorscale": [
             [
              0,
              "#0d0887"
             ],
             [
              0.1111111111111111,
              "#46039f"
             ],
             [
              0.2222222222222222,
              "#7201a8"
             ],
             [
              0.3333333333333333,
              "#9c179e"
             ],
             [
              0.4444444444444444,
              "#bd3786"
             ],
             [
              0.5555555555555556,
              "#d8576b"
             ],
             [
              0.6666666666666666,
              "#ed7953"
             ],
             [
              0.7777777777777778,
              "#fb9f3a"
             ],
             [
              0.8888888888888888,
              "#fdca26"
             ],
             [
              1,
              "#f0f921"
             ]
            ],
            "type": "surface"
           }
          ],
          "table": [
           {
            "cells": {
             "fill": {
              "color": "#EBF0F8"
             },
             "line": {
              "color": "white"
             }
            },
            "header": {
             "fill": {
              "color": "#C8D4E3"
             },
             "line": {
              "color": "white"
             }
            },
            "type": "table"
           }
          ]
         },
         "layout": {
          "annotationdefaults": {
           "arrowcolor": "#2a3f5f",
           "arrowhead": 0,
           "arrowwidth": 1
          },
          "autotypenumbers": "strict",
          "coloraxis": {
           "colorbar": {
            "outlinewidth": 0,
            "ticks": ""
           }
          },
          "colorscale": {
           "diverging": [
            [
             0,
             "#8e0152"
            ],
            [
             0.1,
             "#c51b7d"
            ],
            [
             0.2,
             "#de77ae"
            ],
            [
             0.3,
             "#f1b6da"
            ],
            [
             0.4,
             "#fde0ef"
            ],
            [
             0.5,
             "#f7f7f7"
            ],
            [
             0.6,
             "#e6f5d0"
            ],
            [
             0.7,
             "#b8e186"
            ],
            [
             0.8,
             "#7fbc41"
            ],
            [
             0.9,
             "#4d9221"
            ],
            [
             1,
             "#276419"
            ]
           ],
           "sequential": [
            [
             0,
             "#0d0887"
            ],
            [
             0.1111111111111111,
             "#46039f"
            ],
            [
             0.2222222222222222,
             "#7201a8"
            ],
            [
             0.3333333333333333,
             "#9c179e"
            ],
            [
             0.4444444444444444,
             "#bd3786"
            ],
            [
             0.5555555555555556,
             "#d8576b"
            ],
            [
             0.6666666666666666,
             "#ed7953"
            ],
            [
             0.7777777777777778,
             "#fb9f3a"
            ],
            [
             0.8888888888888888,
             "#fdca26"
            ],
            [
             1,
             "#f0f921"
            ]
           ],
           "sequentialminus": [
            [
             0,
             "#0d0887"
            ],
            [
             0.1111111111111111,
             "#46039f"
            ],
            [
             0.2222222222222222,
             "#7201a8"
            ],
            [
             0.3333333333333333,
             "#9c179e"
            ],
            [
             0.4444444444444444,
             "#bd3786"
            ],
            [
             0.5555555555555556,
             "#d8576b"
            ],
            [
             0.6666666666666666,
             "#ed7953"
            ],
            [
             0.7777777777777778,
             "#fb9f3a"
            ],
            [
             0.8888888888888888,
             "#fdca26"
            ],
            [
             1,
             "#f0f921"
            ]
           ]
          },
          "colorway": [
           "#636efa",
           "#EF553B",
           "#00cc96",
           "#ab63fa",
           "#FFA15A",
           "#19d3f3",
           "#FF6692",
           "#B6E880",
           "#FF97FF",
           "#FECB52"
          ],
          "font": {
           "color": "#2a3f5f"
          },
          "geo": {
           "bgcolor": "white",
           "lakecolor": "white",
           "landcolor": "#E5ECF6",
           "showlakes": true,
           "showland": true,
           "subunitcolor": "white"
          },
          "hoverlabel": {
           "align": "left"
          },
          "hovermode": "closest",
          "mapbox": {
           "style": "light"
          },
          "paper_bgcolor": "white",
          "plot_bgcolor": "#E5ECF6",
          "polar": {
           "angularaxis": {
            "gridcolor": "white",
            "linecolor": "white",
            "ticks": ""
           },
           "bgcolor": "#E5ECF6",
           "radialaxis": {
            "gridcolor": "white",
            "linecolor": "white",
            "ticks": ""
           }
          },
          "scene": {
           "xaxis": {
            "backgroundcolor": "#E5ECF6",
            "gridcolor": "white",
            "gridwidth": 2,
            "linecolor": "white",
            "showbackground": true,
            "ticks": "",
            "zerolinecolor": "white"
           },
           "yaxis": {
            "backgroundcolor": "#E5ECF6",
            "gridcolor": "white",
            "gridwidth": 2,
            "linecolor": "white",
            "showbackground": true,
            "ticks": "",
            "zerolinecolor": "white"
           },
           "zaxis": {
            "backgroundcolor": "#E5ECF6",
            "gridcolor": "white",
            "gridwidth": 2,
            "linecolor": "white",
            "showbackground": true,
            "ticks": "",
            "zerolinecolor": "white"
           }
          },
          "shapedefaults": {
           "line": {
            "color": "#2a3f5f"
           }
          },
          "ternary": {
           "aaxis": {
            "gridcolor": "white",
            "linecolor": "white",
            "ticks": ""
           },
           "baxis": {
            "gridcolor": "white",
            "linecolor": "white",
            "ticks": ""
           },
           "bgcolor": "#E5ECF6",
           "caxis": {
            "gridcolor": "white",
            "linecolor": "white",
            "ticks": ""
           }
          },
          "title": {
           "x": 0.05
          },
          "xaxis": {
           "automargin": true,
           "gridcolor": "white",
           "linecolor": "white",
           "ticks": "",
           "title": {
            "standoff": 15
           },
           "zerolinecolor": "white",
           "zerolinewidth": 2
          },
          "yaxis": {
           "automargin": true,
           "gridcolor": "white",
           "linecolor": "white",
           "ticks": "",
           "title": {
            "standoff": 15
           },
           "zerolinecolor": "white",
           "zerolinewidth": 2
          }
         }
        },
        "xaxis": {
         "anchor": "y",
         "domain": [
          0,
          1
         ],
         "title": {
          "text": "time"
         }
        },
        "yaxis": {
         "anchor": "x",
         "domain": [
          0,
          1
         ],
         "title": {
          "text": "position"
         }
        }
       }
      }
     },
     "metadata": {},
     "output_type": "display_data"
    }
   ],
   "source": [
    "display_dt_diagram(cars, lights).show()"
   ]
  },
  {
   "cell_type": "code",
   "execution_count": null,
   "metadata": {},
   "outputs": [],
   "source": []
  },
  {
   "cell_type": "code",
   "execution_count": null,
   "metadata": {},
   "outputs": [],
   "source": []
  }
 ],
 "metadata": {
  "kernelspec": {
   "display_name": "traffic",
   "language": "python",
   "name": "python3"
  },
  "language_info": {
   "codemirror_mode": {
    "name": "ipython",
    "version": 3
   },
   "file_extension": ".py",
   "mimetype": "text/x-python",
   "name": "python",
   "nbconvert_exporter": "python",
   "pygments_lexer": "ipython3",
   "version": "3.10.13"
  }
 },
 "nbformat": 4,
 "nbformat_minor": 2
}
