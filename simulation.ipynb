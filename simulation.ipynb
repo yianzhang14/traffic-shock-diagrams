{
 "cells": [
  {
   "cell_type": "code",
   "execution_count": 42,
   "metadata": {},
   "outputs": [],
   "source": [
    "MPH_TO_MPS = 0.44704\n",
    "\n",
    "SPACING = 1  # meters\n",
    "HEADWAY = 1  # seconds, HEADWAY\n",
    "SPEED = 60 * MPH_TO_MPS  # meters per second\n",
    "\n",
    "GRANULARITY = 0.01  # base simulation speed in seconds\n",
    "\n",
    "SIMULATION_TIME = 20  # how long to run the simulation\n",
    "\n",
    "SEED = 42"
   ]
  },
  {
   "cell_type": "code",
   "execution_count": 43,
   "metadata": {},
   "outputs": [],
   "source": [
    "assert True  # TODO: ensure valid global constants"
   ]
  },
  {
   "cell_type": "code",
   "execution_count": 44,
   "metadata": {},
   "outputs": [],
   "source": [
    "import itertools\n",
    "import math\n",
    "import random\n",
    "from dataclasses import dataclass\n",
    "\n",
    "import matplotlib.pyplot as plt\n",
    "import pandas as pd\n",
    "import plotly.express as px\n",
    "import seaborn as sns\n",
    "import simpy\n",
    "from sortedcontainers import SortedSet\n"
   ]
  },
  {
   "cell_type": "code",
   "execution_count": 45,
   "metadata": {},
   "outputs": [],
   "source": [
    "class CarCreationFailedError(Exception):\n",
    "    def __init__(self, message):\n",
    "        super().__init__(message)\n",
    "\n",
    "\n",
    "# TODO: if granularity is too large (w.r.t. some other constants?), the assertion breaks\n",
    "class PositionHandler:\n",
    "    def __init__(self):\n",
    "        self.positions = SortedSet()\n",
    "        self.blockers = SortedSet()\n",
    "\n",
    "    def add_blocker(self, pos: float):\n",
    "        assert pos not in self.blockers\n",
    "        self.blockers.add(pos)\n",
    "\n",
    "    def remove_blocker(self, pos: float):\n",
    "        self.blockers.remove(pos)\n",
    "\n",
    "    def reserve_init(self, pos: float):\n",
    "        # if reserving this position would break the minimum distance, don't spawn it\n",
    "        if pos in self.positions or self._check(pos) < SPACING:\n",
    "            raise CarCreationFailedError(\"cannot spawn car\")\n",
    "\n",
    "        self._add(pos)\n",
    "\n",
    "    def _find_next_blocker(self, pos: float) -> float:\n",
    "        idx: int = self.blockers.bisect_left(pos)\n",
    "\n",
    "        if idx == len(self.blockers):\n",
    "            return float(\"inf\")\n",
    "\n",
    "        return self.blockers[idx]\n",
    "\n",
    "    def reserve(self, old: float, new: float) -> float:\n",
    "        # blocker check\n",
    "        # if the next blocker changes between old/new, that means we passed a blocker\n",
    "        before: float = self._find_next_blocker(old)\n",
    "        after: float = self._find_next_blocker(new)\n",
    "\n",
    "        # if the blocker distances are not close (i.e., they are different blockers),\n",
    "        # then we set the new target distance to before, where the blocker is since this car cannot go past that\n",
    "        if not math.isclose(before, after):\n",
    "            new = before\n",
    "\n",
    "        # overlapping cars check\n",
    "        next: float = min(self._check(new), self._check(old))  # position of next car\n",
    "\n",
    "        # assert next - SPACING >= old  # don't want to make a car go backwards\n",
    "\n",
    "        if math.isclose(next, new):\n",
    "            return old\n",
    "        elif next - new < SPACING:\n",
    "            new: float = max(next - SPACING, old)\n",
    "\n",
    "        self._free(old)\n",
    "        self._add(new)\n",
    "\n",
    "        return new\n",
    "\n",
    "    def _add(self, position: float) -> None:\n",
    "        assert position not in self.positions\n",
    "        self.positions.add(position)\n",
    "\n",
    "    def _check(self, position: float) -> float:\n",
    "        idx: int = self.positions.bisect_left(position) + 1\n",
    "\n",
    "        if idx >= len(self.positions):\n",
    "            return float(\"inf\")\n",
    "\n",
    "        return self.positions[idx]\n",
    "\n",
    "    def _free(self, position: float) -> None:\n",
    "        self.positions.remove(position)"
   ]
  },
  {
   "cell_type": "markdown",
   "metadata": {},
   "source": [
    "traffic light limitations currently:\n",
    "\n",
    "- assuming an infinitesimally small traffic light (i.e., car passes a traffic light immediately--there is no gap to travel)\n",
    "    - actually am assuming any obstacles would be like this\n",
    "- possibly off by GRANULARITY depending on if the traffic light event switch happens before or after the cars at the same time\n",
    "    - i think if we just start it first it should always have precedence"
   ]
  },
  {
   "cell_type": "code",
   "execution_count": 46,
   "metadata": {},
   "outputs": [],
   "source": [
    "class TrafficLight:\n",
    "    id: int = 0\n",
    "\n",
    "    def __init__(\n",
    "        self,\n",
    "        env: simpy.Environment,\n",
    "        pos: float,\n",
    "        cycles: tuple[float, ...],\n",
    "        state: int,\n",
    "        blocking_states: tuple[bool, ...],\n",
    "        handler: PositionHandler,\n",
    "    ):\n",
    "        self.pos = pos  # where the traffic light is\n",
    "        self.cycles: tuple[float, ...] = cycles  # list of the delays of each of the cycles\n",
    "        self.state: bool = state  # initial state -- an index for self.cycles\n",
    "        self.blocking_states = (\n",
    "            blocking_states  # list of whether each corresponding cycle is blocking or not\n",
    "        )\n",
    "\n",
    "        assert self.state < len(self.cycles) and self.state >= 0\n",
    "        assert len(blocking_states) == len(cycles)\n",
    "\n",
    "        self.id = TrafficLight.id\n",
    "        TrafficLight.id += 1\n",
    "\n",
    "        self.handler: PositionHandler = handler\n",
    "\n",
    "        self.env: simpy.Environment = env\n",
    "        self.action = self.env.process(self.run())\n",
    "\n",
    "    def run(self):\n",
    "        while True:\n",
    "            if self.blocking_states[self.state]:\n",
    "                self.handler.add_blocker(self.pos)\n",
    "\n",
    "            yield self.env.timeout(self.cycles[self.state])\n",
    "\n",
    "            if self.blocking_states[self.state]:\n",
    "                self.handler.remove_blocker(self.pos)\n",
    "\n",
    "            self.state = (self.state + 1) % len(self.cycles)"
   ]
  },
  {
   "cell_type": "code",
   "execution_count": 47,
   "metadata": {},
   "outputs": [],
   "source": [
    "@dataclass\n",
    "class HistoryEntry:\n",
    "    id: int\n",
    "    time: float\n",
    "    position: float\n",
    "\n",
    "    def __init__(self, id: int, time: float, position: float):\n",
    "        self.id = id\n",
    "        self.time = time\n",
    "        self.position = position\n",
    "\n",
    "    def unpack(self) -> tuple[int, float, float]:\n",
    "        return (self.id, self.time, self.position)\n",
    "\n",
    "    def get_ordering() -> tuple[str, str, str]:\n",
    "        return [\"id\", \"time\", \"position\"]\n",
    "\n",
    "\n",
    "class Car:\n",
    "    counter: int = 0\n",
    "\n",
    "    def __init__(\n",
    "        self,\n",
    "        env: simpy.Environment,\n",
    "        positions: PositionHandler,\n",
    "        inflection_points: list[tuple[float, float]],\n",
    "        init_pos: int = 0,\n",
    "    ):\n",
    "        positions.reserve_init(init_pos)  # assume this always works, error handle outside\n",
    "\n",
    "        # start position at the given init_pos (0)\n",
    "        self.pos: float = init_pos\n",
    "        # set initial and max speed possible\n",
    "        self.speed: float = SPEED\n",
    "\n",
    "        # give the current car an id\n",
    "        self.id: int = Car.counter\n",
    "        Car.counter += 1\n",
    "\n",
    "        # variable to track a history of the points that compose the lines that the car traverses in the position-time plot\n",
    "        self.history: list[HistoryEntry] = [HistoryEntry(self.id, env.now, self.pos)]\n",
    "\n",
    "        # get a reference to the position tracker\n",
    "        self.positions: PositionHandler = positions\n",
    "\n",
    "        # store reference to simpy environment\n",
    "        self.env: simpy.Environment = env\n",
    "        # define the action for the simpy environment\n",
    "        self.action = self.env.process(self.run())\n",
    "\n",
    "        self.inflection_points = inflection_points\n",
    "\n",
    "    def update_history(self, id: int, time: float, pos: float) -> None:\n",
    "        entry = HistoryEntry(id, time, pos)\n",
    "\n",
    "        if len(self.history) <= 1 or (\n",
    "            pos == self.history[-1].position and time == self.history[-1].time\n",
    "        ):\n",
    "            self.history.append(entry)\n",
    "            return\n",
    "\n",
    "        old_slope: float = (self.history[-1].position - self.history[-2].position) / (\n",
    "            self.history[-1].time - self.history[-2].time\n",
    "        )\n",
    "        new_slope: float = (pos - self.history[-1].position) / (time - self.history[-1].time)\n",
    "\n",
    "        prev_pos: float = self.history[-1].position\n",
    "\n",
    "        # if id == 0:\n",
    "        # print(old_slope, new_slope)\n",
    "        if math.isclose(old_slope, new_slope):\n",
    "            self.history[-1] = entry\n",
    "        else:\n",
    "            # this is the amount of time needed to reach the new position using the nonzero slope\n",
    "            truncated_time = -1\n",
    "            if new_slope < old_slope:\n",
    "                truncated_time = time - (pos - prev_pos) / old_slope\n",
    "            elif new_slope > old_slope:\n",
    "                truncated_time = time - (pos - prev_pos) / new_slope\n",
    "\n",
    "            self.inflection_points.append((pos, truncated_time))\n",
    "\n",
    "            # want to keep at speeds for as long as possible, don't want middling slopes\n",
    "            if not math.isclose(truncated_time, time):\n",
    "                self.history[-1] = HistoryEntry(id, truncated_time, pos)\n",
    "            self.history.append(entry)\n",
    "\n",
    "    def run(self):\n",
    "        while True:\n",
    "            yield self.env.timeout(GRANULARITY)\n",
    "\n",
    "            target_pos: float = self.pos + self.speed * GRANULARITY\n",
    "            actual_pos: float = self.positions.reserve(self.pos, target_pos)\n",
    "\n",
    "            self.pos = actual_pos\n",
    "            self.update_history(self.id, self.env.now, actual_pos)\n",
    "\n",
    "    def __str__(self) -> str:\n",
    "        return f\"Car with id {self.id} at location {self.pos}\""
   ]
  },
  {
   "cell_type": "code",
   "execution_count": 48,
   "metadata": {},
   "outputs": [],
   "source": [
    "cars = []\n",
    "lights = []\n",
    "inflections = []\n",
    "handler = PositionHandler()\n",
    "\n",
    "\n",
    "def start_simulation(env: simpy.Environment):\n",
    "    lights.append(TrafficLight(env, 10, [5, 5], 0, [1, 0], handler))\n",
    "\n",
    "    yield env.timeout(GRANULARITY)\n",
    "\n",
    "    while True:\n",
    "        try:\n",
    "            c = Car(env, handler, inflections)\n",
    "\n",
    "            # env.process(c)\n",
    "            cars.append(c)\n",
    "        except CarCreationFailedError:\n",
    "            pass\n",
    "\n",
    "        # for car in cars:\n",
    "        #     print(\"car info\", car.pos, car.id)\n",
    "        # print()\n",
    "\n",
    "        yield env.timeout(HEADWAY)"
   ]
  },
  {
   "cell_type": "code",
   "execution_count": 49,
   "metadata": {},
   "outputs": [],
   "source": [
    "random.seed(SEED)\n",
    "env = simpy.Environment()\n",
    "\n",
    "env.process(start_simulation(env))\n",
    "env.run(until=SIMULATION_TIME)"
   ]
  },
  {
   "cell_type": "code",
   "execution_count": 50,
   "metadata": {},
   "outputs": [],
   "source": [
    "import matplotlib.axes._axes as axes\n",
    "\n",
    "\n",
    "def display_dt_diagram(cars: list[Car], lights: list[TrafficLight]):\n",
    "    # fig, ax = plt.subplots(figsize=(10, 7))\n",
    "    # ax: axes.Axes\n",
    "\n",
    "    df = pd.DataFrame(\n",
    "        list(itertools.chain(*[[x.unpack() for x in car.history] for car in cars])),\n",
    "        columns=HistoryEntry.get_ordering(),\n",
    "    )\n",
    "\n",
    "    # sns.lineplot(data=df, x=\"time\", y=\"position\", hue=\"id\", ax=ax, palette=sns.color_palette(n_colors=1))\n",
    "    # ax.get_legend().remove()\n",
    "\n",
    "    # ax.hlines([light.pos for light in lights], xmin=ax.get_xlim()[0], xmax=ax.get_xlim()[1], linestyles=\"dotted\", colors=\"0.8\")\n",
    "\n",
    "    # return fig, ax\n",
    "\n",
    "    fig = px.line(df, x=\"time\", y=\"position\", color=\"id\")\n",
    "    fig.update_layout(showlegend=False)\n",
    "\n",
    "    return fig"
   ]
  },
  {
   "cell_type": "code",
   "execution_count": 51,
   "metadata": {},
   "outputs": [
    {
     "data": {
      "text/plain": [
       "[HistoryEntry(id=2, time=2.01, position=0),\n",
       " HistoryEntry(id=2, time=5.731772846575918, position=100),\n",
       " HistoryEntry(id=2, time=9.99999999999983, position=100),\n",
       " HistoryEntry(id=2, time=19.990000000000325, position=367.9557759999917)]"
      ]
     },
     "execution_count": 51,
     "metadata": {},
     "output_type": "execute_result"
    }
   ],
   "source": [
    "cars[2].history"
   ]
  },
  {
   "cell_type": "code",
   "execution_count": 52,
   "metadata": {},
   "outputs": [
    {
     "name": "stderr",
     "output_type": "stream",
     "text": [
      "d:\\mambaforge\\envs\\traffic\\lib\\site-packages\\plotly\\express\\_core.py:2065: FutureWarning:\n",
      "\n",
      "When grouping with a length-1 list-like, you will need to pass a length-1 tuple to get_group in a future version of pandas. Pass `(name,)` instead of `name` to silence this warning.\n",
      "\n"
     ]
    },
    {
     "data": {
      "application/vnd.plotly.v1+json": {
       "config": {
        "plotlyServerURL": "https://plot.ly"
       },
       "data": [
        {
         "hovertemplate": "id=0<br>time=%{x}<br>position=%{y}<extra></extra>",
         "legendgroup": "0",
         "line": {
          "color": "#636efa",
          "dash": "solid"
         },
         "marker": {
          "symbol": "circle"
         },
         "mode": "lines",
         "name": "0",
         "orientation": "v",
         "showlegend": true,
         "type": "scatter",
         "x": [
          0.01,
          19.990000000000325
         ],
         "xaxis": "x",
         "y": [
          0,
          535.9115519999813
         ],
         "yaxis": "y"
        },
        {
         "hovertemplate": "id=1<br>time=%{x}<br>position=%{y}<extra></extra>",
         "legendgroup": "1",
         "line": {
          "color": "#EF553B",
          "dash": "solid"
         },
         "marker": {
          "symbol": "circle"
         },
         "mode": "lines",
         "name": "1",
         "orientation": "v",
         "showlegend": true,
         "type": "scatter",
         "x": [
          1.01,
          19.990000000000325
         ],
         "xaxis": "x",
         "y": [
          0,
          509.0891519999787
         ],
         "yaxis": "y"
        },
        {
         "hovertemplate": "id=2<br>time=%{x}<br>position=%{y}<extra></extra>",
         "legendgroup": "2",
         "line": {
          "color": "#00cc96",
          "dash": "solid"
         },
         "marker": {
          "symbol": "circle"
         },
         "mode": "lines",
         "name": "2",
         "orientation": "v",
         "showlegend": true,
         "type": "scatter",
         "x": [
          2.01,
          5.731772846575918,
          9.99999999999983,
          19.990000000000325
         ],
         "xaxis": "x",
         "y": [
          0,
          100,
          100,
          367.9557759999917
         ],
         "yaxis": "y"
        },
        {
         "hovertemplate": "id=3<br>time=%{x}<br>position=%{y}<extra></extra>",
         "legendgroup": "3",
         "line": {
          "color": "#ab63fa",
          "dash": "solid"
         },
         "marker": {
          "symbol": "circle"
         },
         "mode": "lines",
         "name": "3",
         "orientation": "v",
         "showlegend": true,
         "type": "scatter",
         "x": [
          3.01,
          6.709055118110158,
          9.99999999999985,
          19.990000000000347
         ],
         "xaxis": "x",
         "y": [
          0,
          99,
          99,
          366.9557759999917
         ],
         "yaxis": "y"
        },
        {
         "hovertemplate": "id=4<br>time=%{x}<br>position=%{y}<extra></extra>",
         "legendgroup": "4",
         "line": {
          "color": "#FFA15A",
          "dash": "solid"
         },
         "marker": {
          "symbol": "circle"
         },
         "mode": "lines",
         "name": "4",
         "orientation": "v",
         "showlegend": true,
         "type": "scatter",
         "x": [
          4.01,
          7.666337389644399,
          9.999999999999872,
          19.990000000000368
         ],
         "xaxis": "x",
         "y": [
          0,
          98,
          98,
          365.9557759999917
         ],
         "yaxis": "y"
        },
        {
         "hovertemplate": "id=5<br>time=%{x}<br>position=%{y}<extra></extra>",
         "legendgroup": "5",
         "line": {
          "color": "#19d3f3",
          "dash": "solid"
         },
         "marker": {
          "symbol": "circle"
         },
         "mode": "lines",
         "name": "5",
         "orientation": "v",
         "showlegend": true,
         "type": "scatter",
         "x": [
          5.01,
          8.623619661178639,
          9.999999999999893,
          19.99000000000039
         ],
         "xaxis": "x",
         "y": [
          0,
          97,
          97,
          364.9557759999917
         ],
         "yaxis": "y"
        },
        {
         "hovertemplate": "id=6<br>time=%{x}<br>position=%{y}<extra></extra>",
         "legendgroup": "6",
         "line": {
          "color": "#FF6692",
          "dash": "solid"
         },
         "marker": {
          "symbol": "circle"
         },
         "mode": "lines",
         "name": "6",
         "orientation": "v",
         "showlegend": true,
         "type": "scatter",
         "x": [
          6.01,
          9.58090193271288,
          9.999999999999915,
          19.99000000000041
         ],
         "xaxis": "x",
         "y": [
          0,
          96,
          96,
          363.9557759999917
         ],
         "yaxis": "y"
        },
        {
         "hovertemplate": "id=7<br>time=%{x}<br>position=%{y}<extra></extra>",
         "legendgroup": "7",
         "line": {
          "color": "#B6E880",
          "dash": "solid"
         },
         "marker": {
          "symbol": "circle"
         },
         "mode": "lines",
         "name": "7",
         "orientation": "v",
         "showlegend": true,
         "type": "scatter",
         "x": [
          7.01,
          19.990000000000432
         ],
         "xaxis": "x",
         "y": [
          0,
          348.1547519999936
         ],
         "yaxis": "y"
        },
        {
         "hovertemplate": "id=8<br>time=%{x}<br>position=%{y}<extra></extra>",
         "legendgroup": "8",
         "line": {
          "color": "#FF97FF",
          "dash": "solid"
         },
         "marker": {
          "symbol": "circle"
         },
         "mode": "lines",
         "name": "8",
         "orientation": "v",
         "showlegend": true,
         "type": "scatter",
         "x": [
          8.01,
          19.990000000000453
         ],
         "xaxis": "x",
         "y": [
          0,
          321.3323519999961
         ],
         "yaxis": "y"
        },
        {
         "hovertemplate": "id=9<br>time=%{x}<br>position=%{y}<extra></extra>",
         "legendgroup": "9",
         "line": {
          "color": "#FECB52",
          "dash": "solid"
         },
         "marker": {
          "symbol": "circle"
         },
         "mode": "lines",
         "name": "9",
         "orientation": "v",
         "showlegend": true,
         "type": "scatter",
         "x": [
          9.01,
          19.990000000000475
         ],
         "xaxis": "x",
         "y": [
          0,
          294.5099519999986
         ],
         "yaxis": "y"
        },
        {
         "hovertemplate": "id=10<br>time=%{x}<br>position=%{y}<extra></extra>",
         "legendgroup": "10",
         "line": {
          "color": "#636efa",
          "dash": "solid"
         },
         "marker": {
          "symbol": "circle"
         },
         "mode": "lines",
         "name": "10",
         "orientation": "v",
         "showlegend": true,
         "type": "scatter",
         "x": [
          10.01,
          19.990000000000496
         ],
         "xaxis": "x",
         "y": [
          0,
          267.68755200000106
         ],
         "yaxis": "y"
        },
        {
         "hovertemplate": "id=11<br>time=%{x}<br>position=%{y}<extra></extra>",
         "legendgroup": "11",
         "line": {
          "color": "#EF553B",
          "dash": "solid"
         },
         "marker": {
          "symbol": "circle"
         },
         "mode": "lines",
         "name": "11",
         "orientation": "v",
         "showlegend": true,
         "type": "scatter",
         "x": [
          11.01,
          19.990000000000517
         ],
         "xaxis": "x",
         "y": [
          0,
          240.86515200000193
         ],
         "yaxis": "y"
        },
        {
         "hovertemplate": "id=12<br>time=%{x}<br>position=%{y}<extra></extra>",
         "legendgroup": "12",
         "line": {
          "color": "#00cc96",
          "dash": "solid"
         },
         "marker": {
          "symbol": "circle"
         },
         "mode": "lines",
         "name": "12",
         "orientation": "v",
         "showlegend": true,
         "type": "scatter",
         "x": [
          12.01,
          15.731772846575918,
          19.99000000000054
         ],
         "xaxis": "x",
         "y": [
          0,
          100,
          100
         ],
         "yaxis": "y"
        },
        {
         "hovertemplate": "id=13<br>time=%{x}<br>position=%{y}<extra></extra>",
         "legendgroup": "13",
         "line": {
          "color": "#ab63fa",
          "dash": "solid"
         },
         "marker": {
          "symbol": "circle"
         },
         "mode": "lines",
         "name": "13",
         "orientation": "v",
         "showlegend": true,
         "type": "scatter",
         "x": [
          13.01,
          16.709055118110285,
          19.99000000000056
         ],
         "xaxis": "x",
         "y": [
          0,
          99,
          99
         ],
         "yaxis": "y"
        },
        {
         "hovertemplate": "id=14<br>time=%{x}<br>position=%{y}<extra></extra>",
         "legendgroup": "14",
         "line": {
          "color": "#FFA15A",
          "dash": "solid"
         },
         "marker": {
          "symbol": "circle"
         },
         "mode": "lines",
         "name": "14",
         "orientation": "v",
         "showlegend": true,
         "type": "scatter",
         "x": [
          14.01,
          17.666337389644696,
          19.99000000000058
         ],
         "xaxis": "x",
         "y": [
          0,
          98,
          98
         ],
         "yaxis": "y"
        },
        {
         "hovertemplate": "id=15<br>time=%{x}<br>position=%{y}<extra></extra>",
         "legendgroup": "15",
         "line": {
          "color": "#19d3f3",
          "dash": "solid"
         },
         "marker": {
          "symbol": "circle"
         },
         "mode": "lines",
         "name": "15",
         "orientation": "v",
         "showlegend": true,
         "type": "scatter",
         "x": [
          15.01,
          18.623619661179106,
          19.990000000000602
         ],
         "xaxis": "x",
         "y": [
          0,
          97,
          97
         ],
         "yaxis": "y"
        },
        {
         "hovertemplate": "id=16<br>time=%{x}<br>position=%{y}<extra></extra>",
         "legendgroup": "16",
         "line": {
          "color": "#FF6692",
          "dash": "solid"
         },
         "marker": {
          "symbol": "circle"
         },
         "mode": "lines",
         "name": "16",
         "orientation": "v",
         "showlegend": true,
         "type": "scatter",
         "x": [
          16.009999999999998,
          19.580901932713513,
          19.99000000000062
         ],
         "xaxis": "x",
         "y": [
          0,
          96,
          96
         ],
         "yaxis": "y"
        },
        {
         "hovertemplate": "id=17<br>time=%{x}<br>position=%{y}<extra></extra>",
         "legendgroup": "17",
         "line": {
          "color": "#B6E880",
          "dash": "solid"
         },
         "marker": {
          "symbol": "circle"
         },
         "mode": "lines",
         "name": "17",
         "orientation": "v",
         "showlegend": true,
         "type": "scatter",
         "x": [
          17.009999999999998,
          19.990000000000464
         ],
         "xaxis": "x",
         "y": [
          0,
          79.93075199999979
         ],
         "yaxis": "y"
        },
        {
         "hovertemplate": "id=18<br>time=%{x}<br>position=%{y}<extra></extra>",
         "legendgroup": "18",
         "line": {
          "color": "#FF97FF",
          "dash": "solid"
         },
         "marker": {
          "symbol": "circle"
         },
         "mode": "lines",
         "name": "18",
         "orientation": "v",
         "showlegend": true,
         "type": "scatter",
         "x": [
          18.009999999999998,
          19.990000000000308
         ],
         "xaxis": "x",
         "y": [
          0,
          53.10835199999972
         ],
         "yaxis": "y"
        },
        {
         "hovertemplate": "id=19<br>time=%{x}<br>position=%{y}<extra></extra>",
         "legendgroup": "19",
         "line": {
          "color": "#FECB52",
          "dash": "solid"
         },
         "marker": {
          "symbol": "circle"
         },
         "mode": "lines",
         "name": "19",
         "orientation": "v",
         "showlegend": true,
         "type": "scatter",
         "x": [
          19.009999999999998,
          19.99000000000015
         ],
         "xaxis": "x",
         "y": [
          0,
          26.285951999999998
         ],
         "yaxis": "y"
        }
       ],
       "layout": {
        "legend": {
         "title": {
          "text": "id"
         },
         "tracegroupgap": 0
        },
        "margin": {
         "t": 60
        },
        "showlegend": false,
        "template": {
         "data": {
          "bar": [
           {
            "error_x": {
             "color": "#2a3f5f"
            },
            "error_y": {
             "color": "#2a3f5f"
            },
            "marker": {
             "line": {
              "color": "#E5ECF6",
              "width": 0.5
             },
             "pattern": {
              "fillmode": "overlay",
              "size": 10,
              "solidity": 0.2
             }
            },
            "type": "bar"
           }
          ],
          "barpolar": [
           {
            "marker": {
             "line": {
              "color": "#E5ECF6",
              "width": 0.5
             },
             "pattern": {
              "fillmode": "overlay",
              "size": 10,
              "solidity": 0.2
             }
            },
            "type": "barpolar"
           }
          ],
          "carpet": [
           {
            "aaxis": {
             "endlinecolor": "#2a3f5f",
             "gridcolor": "white",
             "linecolor": "white",
             "minorgridcolor": "white",
             "startlinecolor": "#2a3f5f"
            },
            "baxis": {
             "endlinecolor": "#2a3f5f",
             "gridcolor": "white",
             "linecolor": "white",
             "minorgridcolor": "white",
             "startlinecolor": "#2a3f5f"
            },
            "type": "carpet"
           }
          ],
          "choropleth": [
           {
            "colorbar": {
             "outlinewidth": 0,
             "ticks": ""
            },
            "type": "choropleth"
           }
          ],
          "contour": [
           {
            "colorbar": {
             "outlinewidth": 0,
             "ticks": ""
            },
            "colorscale": [
             [
              0,
              "#0d0887"
             ],
             [
              0.1111111111111111,
              "#46039f"
             ],
             [
              0.2222222222222222,
              "#7201a8"
             ],
             [
              0.3333333333333333,
              "#9c179e"
             ],
             [
              0.4444444444444444,
              "#bd3786"
             ],
             [
              0.5555555555555556,
              "#d8576b"
             ],
             [
              0.6666666666666666,
              "#ed7953"
             ],
             [
              0.7777777777777778,
              "#fb9f3a"
             ],
             [
              0.8888888888888888,
              "#fdca26"
             ],
             [
              1,
              "#f0f921"
             ]
            ],
            "type": "contour"
           }
          ],
          "contourcarpet": [
           {
            "colorbar": {
             "outlinewidth": 0,
             "ticks": ""
            },
            "type": "contourcarpet"
           }
          ],
          "heatmap": [
           {
            "colorbar": {
             "outlinewidth": 0,
             "ticks": ""
            },
            "colorscale": [
             [
              0,
              "#0d0887"
             ],
             [
              0.1111111111111111,
              "#46039f"
             ],
             [
              0.2222222222222222,
              "#7201a8"
             ],
             [
              0.3333333333333333,
              "#9c179e"
             ],
             [
              0.4444444444444444,
              "#bd3786"
             ],
             [
              0.5555555555555556,
              "#d8576b"
             ],
             [
              0.6666666666666666,
              "#ed7953"
             ],
             [
              0.7777777777777778,
              "#fb9f3a"
             ],
             [
              0.8888888888888888,
              "#fdca26"
             ],
             [
              1,
              "#f0f921"
             ]
            ],
            "type": "heatmap"
           }
          ],
          "heatmapgl": [
           {
            "colorbar": {
             "outlinewidth": 0,
             "ticks": ""
            },
            "colorscale": [
             [
              0,
              "#0d0887"
             ],
             [
              0.1111111111111111,
              "#46039f"
             ],
             [
              0.2222222222222222,
              "#7201a8"
             ],
             [
              0.3333333333333333,
              "#9c179e"
             ],
             [
              0.4444444444444444,
              "#bd3786"
             ],
             [
              0.5555555555555556,
              "#d8576b"
             ],
             [
              0.6666666666666666,
              "#ed7953"
             ],
             [
              0.7777777777777778,
              "#fb9f3a"
             ],
             [
              0.8888888888888888,
              "#fdca26"
             ],
             [
              1,
              "#f0f921"
             ]
            ],
            "type": "heatmapgl"
           }
          ],
          "histogram": [
           {
            "marker": {
             "pattern": {
              "fillmode": "overlay",
              "size": 10,
              "solidity": 0.2
             }
            },
            "type": "histogram"
           }
          ],
          "histogram2d": [
           {
            "colorbar": {
             "outlinewidth": 0,
             "ticks": ""
            },
            "colorscale": [
             [
              0,
              "#0d0887"
             ],
             [
              0.1111111111111111,
              "#46039f"
             ],
             [
              0.2222222222222222,
              "#7201a8"
             ],
             [
              0.3333333333333333,
              "#9c179e"
             ],
             [
              0.4444444444444444,
              "#bd3786"
             ],
             [
              0.5555555555555556,
              "#d8576b"
             ],
             [
              0.6666666666666666,
              "#ed7953"
             ],
             [
              0.7777777777777778,
              "#fb9f3a"
             ],
             [
              0.8888888888888888,
              "#fdca26"
             ],
             [
              1,
              "#f0f921"
             ]
            ],
            "type": "histogram2d"
           }
          ],
          "histogram2dcontour": [
           {
            "colorbar": {
             "outlinewidth": 0,
             "ticks": ""
            },
            "colorscale": [
             [
              0,
              "#0d0887"
             ],
             [
              0.1111111111111111,
              "#46039f"
             ],
             [
              0.2222222222222222,
              "#7201a8"
             ],
             [
              0.3333333333333333,
              "#9c179e"
             ],
             [
              0.4444444444444444,
              "#bd3786"
             ],
             [
              0.5555555555555556,
              "#d8576b"
             ],
             [
              0.6666666666666666,
              "#ed7953"
             ],
             [
              0.7777777777777778,
              "#fb9f3a"
             ],
             [
              0.8888888888888888,
              "#fdca26"
             ],
             [
              1,
              "#f0f921"
             ]
            ],
            "type": "histogram2dcontour"
           }
          ],
          "mesh3d": [
           {
            "colorbar": {
             "outlinewidth": 0,
             "ticks": ""
            },
            "type": "mesh3d"
           }
          ],
          "parcoords": [
           {
            "line": {
             "colorbar": {
              "outlinewidth": 0,
              "ticks": ""
             }
            },
            "type": "parcoords"
           }
          ],
          "pie": [
           {
            "automargin": true,
            "type": "pie"
           }
          ],
          "scatter": [
           {
            "fillpattern": {
             "fillmode": "overlay",
             "size": 10,
             "solidity": 0.2
            },
            "type": "scatter"
           }
          ],
          "scatter3d": [
           {
            "line": {
             "colorbar": {
              "outlinewidth": 0,
              "ticks": ""
             }
            },
            "marker": {
             "colorbar": {
              "outlinewidth": 0,
              "ticks": ""
             }
            },
            "type": "scatter3d"
           }
          ],
          "scattercarpet": [
           {
            "marker": {
             "colorbar": {
              "outlinewidth": 0,
              "ticks": ""
             }
            },
            "type": "scattercarpet"
           }
          ],
          "scattergeo": [
           {
            "marker": {
             "colorbar": {
              "outlinewidth": 0,
              "ticks": ""
             }
            },
            "type": "scattergeo"
           }
          ],
          "scattergl": [
           {
            "marker": {
             "colorbar": {
              "outlinewidth": 0,
              "ticks": ""
             }
            },
            "type": "scattergl"
           }
          ],
          "scattermapbox": [
           {
            "marker": {
             "colorbar": {
              "outlinewidth": 0,
              "ticks": ""
             }
            },
            "type": "scattermapbox"
           }
          ],
          "scatterpolar": [
           {
            "marker": {
             "colorbar": {
              "outlinewidth": 0,
              "ticks": ""
             }
            },
            "type": "scatterpolar"
           }
          ],
          "scatterpolargl": [
           {
            "marker": {
             "colorbar": {
              "outlinewidth": 0,
              "ticks": ""
             }
            },
            "type": "scatterpolargl"
           }
          ],
          "scatterternary": [
           {
            "marker": {
             "colorbar": {
              "outlinewidth": 0,
              "ticks": ""
             }
            },
            "type": "scatterternary"
           }
          ],
          "surface": [
           {
            "colorbar": {
             "outlinewidth": 0,
             "ticks": ""
            },
            "colorscale": [
             [
              0,
              "#0d0887"
             ],
             [
              0.1111111111111111,
              "#46039f"
             ],
             [
              0.2222222222222222,
              "#7201a8"
             ],
             [
              0.3333333333333333,
              "#9c179e"
             ],
             [
              0.4444444444444444,
              "#bd3786"
             ],
             [
              0.5555555555555556,
              "#d8576b"
             ],
             [
              0.6666666666666666,
              "#ed7953"
             ],
             [
              0.7777777777777778,
              "#fb9f3a"
             ],
             [
              0.8888888888888888,
              "#fdca26"
             ],
             [
              1,
              "#f0f921"
             ]
            ],
            "type": "surface"
           }
          ],
          "table": [
           {
            "cells": {
             "fill": {
              "color": "#EBF0F8"
             },
             "line": {
              "color": "white"
             }
            },
            "header": {
             "fill": {
              "color": "#C8D4E3"
             },
             "line": {
              "color": "white"
             }
            },
            "type": "table"
           }
          ]
         },
         "layout": {
          "annotationdefaults": {
           "arrowcolor": "#2a3f5f",
           "arrowhead": 0,
           "arrowwidth": 1
          },
          "autotypenumbers": "strict",
          "coloraxis": {
           "colorbar": {
            "outlinewidth": 0,
            "ticks": ""
           }
          },
          "colorscale": {
           "diverging": [
            [
             0,
             "#8e0152"
            ],
            [
             0.1,
             "#c51b7d"
            ],
            [
             0.2,
             "#de77ae"
            ],
            [
             0.3,
             "#f1b6da"
            ],
            [
             0.4,
             "#fde0ef"
            ],
            [
             0.5,
             "#f7f7f7"
            ],
            [
             0.6,
             "#e6f5d0"
            ],
            [
             0.7,
             "#b8e186"
            ],
            [
             0.8,
             "#7fbc41"
            ],
            [
             0.9,
             "#4d9221"
            ],
            [
             1,
             "#276419"
            ]
           ],
           "sequential": [
            [
             0,
             "#0d0887"
            ],
            [
             0.1111111111111111,
             "#46039f"
            ],
            [
             0.2222222222222222,
             "#7201a8"
            ],
            [
             0.3333333333333333,
             "#9c179e"
            ],
            [
             0.4444444444444444,
             "#bd3786"
            ],
            [
             0.5555555555555556,
             "#d8576b"
            ],
            [
             0.6666666666666666,
             "#ed7953"
            ],
            [
             0.7777777777777778,
             "#fb9f3a"
            ],
            [
             0.8888888888888888,
             "#fdca26"
            ],
            [
             1,
             "#f0f921"
            ]
           ],
           "sequentialminus": [
            [
             0,
             "#0d0887"
            ],
            [
             0.1111111111111111,
             "#46039f"
            ],
            [
             0.2222222222222222,
             "#7201a8"
            ],
            [
             0.3333333333333333,
             "#9c179e"
            ],
            [
             0.4444444444444444,
             "#bd3786"
            ],
            [
             0.5555555555555556,
             "#d8576b"
            ],
            [
             0.6666666666666666,
             "#ed7953"
            ],
            [
             0.7777777777777778,
             "#fb9f3a"
            ],
            [
             0.8888888888888888,
             "#fdca26"
            ],
            [
             1,
             "#f0f921"
            ]
           ]
          },
          "colorway": [
           "#636efa",
           "#EF553B",
           "#00cc96",
           "#ab63fa",
           "#FFA15A",
           "#19d3f3",
           "#FF6692",
           "#B6E880",
           "#FF97FF",
           "#FECB52"
          ],
          "font": {
           "color": "#2a3f5f"
          },
          "geo": {
           "bgcolor": "white",
           "lakecolor": "white",
           "landcolor": "#E5ECF6",
           "showlakes": true,
           "showland": true,
           "subunitcolor": "white"
          },
          "hoverlabel": {
           "align": "left"
          },
          "hovermode": "closest",
          "mapbox": {
           "style": "light"
          },
          "paper_bgcolor": "white",
          "plot_bgcolor": "#E5ECF6",
          "polar": {
           "angularaxis": {
            "gridcolor": "white",
            "linecolor": "white",
            "ticks": ""
           },
           "bgcolor": "#E5ECF6",
           "radialaxis": {
            "gridcolor": "white",
            "linecolor": "white",
            "ticks": ""
           }
          },
          "scene": {
           "xaxis": {
            "backgroundcolor": "#E5ECF6",
            "gridcolor": "white",
            "gridwidth": 2,
            "linecolor": "white",
            "showbackground": true,
            "ticks": "",
            "zerolinecolor": "white"
           },
           "yaxis": {
            "backgroundcolor": "#E5ECF6",
            "gridcolor": "white",
            "gridwidth": 2,
            "linecolor": "white",
            "showbackground": true,
            "ticks": "",
            "zerolinecolor": "white"
           },
           "zaxis": {
            "backgroundcolor": "#E5ECF6",
            "gridcolor": "white",
            "gridwidth": 2,
            "linecolor": "white",
            "showbackground": true,
            "ticks": "",
            "zerolinecolor": "white"
           }
          },
          "shapedefaults": {
           "line": {
            "color": "#2a3f5f"
           }
          },
          "ternary": {
           "aaxis": {
            "gridcolor": "white",
            "linecolor": "white",
            "ticks": ""
           },
           "baxis": {
            "gridcolor": "white",
            "linecolor": "white",
            "ticks": ""
           },
           "bgcolor": "#E5ECF6",
           "caxis": {
            "gridcolor": "white",
            "linecolor": "white",
            "ticks": ""
           }
          },
          "title": {
           "x": 0.05
          },
          "xaxis": {
           "automargin": true,
           "gridcolor": "white",
           "linecolor": "white",
           "ticks": "",
           "title": {
            "standoff": 15
           },
           "zerolinecolor": "white",
           "zerolinewidth": 2
          },
          "yaxis": {
           "automargin": true,
           "gridcolor": "white",
           "linecolor": "white",
           "ticks": "",
           "title": {
            "standoff": 15
           },
           "zerolinecolor": "white",
           "zerolinewidth": 2
          }
         }
        },
        "xaxis": {
         "anchor": "y",
         "domain": [
          0,
          1
         ],
         "title": {
          "text": "time"
         }
        },
        "yaxis": {
         "anchor": "x",
         "domain": [
          0,
          1
         ],
         "title": {
          "text": "position"
         }
        }
       }
      }
     },
     "metadata": {},
     "output_type": "display_data"
    }
   ],
   "source": [
    "display_dt_diagram(cars, lights).show()"
   ]
  },
  {
   "cell_type": "code",
   "execution_count": null,
   "metadata": {},
   "outputs": [],
   "source": []
  },
  {
   "cell_type": "code",
   "execution_count": null,
   "metadata": {},
   "outputs": [],
   "source": []
  }
 ],
 "metadata": {
  "kernelspec": {
   "display_name": "traffic",
   "language": "python",
   "name": "python3"
  },
  "language_info": {
   "codemirror_mode": {
    "name": "ipython",
    "version": 3
   },
   "file_extension": ".py",
   "mimetype": "text/x-python",
   "name": "python",
   "nbconvert_exporter": "python",
   "pygments_lexer": "ipython3",
   "version": "3.12.2"
  }
 },
 "nbformat": 4,
 "nbformat_minor": 2
}
