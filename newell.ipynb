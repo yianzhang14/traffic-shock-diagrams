{
 "cells": [
  {
   "cell_type": "code",
   "execution_count": 1,
   "metadata": {},
   "outputs": [],
   "source": [
    "MPH_TO_MPS = 0.44704\n",
    "\n",
    "TRAFFIC_WAVE = 20 * MPH_TO_MPS  # meters per second\n",
    "JAM_DENSITY = 1  # vehicles per meter\n",
    "FREE_FLOW_SPEED = 20 * MPH_TO_MPS\n",
    "\n",
    "TAU = 1 / (TRAFFIC_WAVE * JAM_DENSITY)  # seconds per vehicle\n",
    "DELTA = 1 / JAM_DENSITY  # meters per vehicle\n",
    "\n",
    "HEADWAY = 1  # seconds, time between vehicle spawns\n",
    "\n",
    "# if TAU != GRANULARITY, will probably not work for a non-simplified model (where speeds restrictied to {0, FREEFLOW_SPEED})\n",
    "GRANULARITY = 0.01  # base simulation speed in seconds\n",
    "SIMULATION_TIME = 20  # how long to run the simulation"
   ]
  },
  {
   "cell_type": "code",
   "execution_count": 2,
   "metadata": {},
   "outputs": [],
   "source": [
    "import simpy\n",
    "import pandas as pd\n",
    "import matplotlib.pyplot as plt\n",
    "import seaborn as sns\n",
    "import math\n",
    "import itertools\n",
    "from sortedcontainers import SortedSet\n",
    "from dataclasses import dataclass\n",
    "import plotly.express as px\n",
    "from typing import Optional, Callable\n",
    "from scipy import interpolate\n",
    "from bisect import bisect_left"
   ]
  },
  {
   "cell_type": "code",
   "execution_count": 3,
   "metadata": {},
   "outputs": [],
   "source": [
    "@dataclass\n",
    "class HistoryEntry:\n",
    "    id: int\n",
    "    time: float\n",
    "    position: float\n",
    "    speed: float  # speed at which the car was going between this segment and the PREVIOUS one\n",
    "        \n",
    "    def unpack(self) -> tuple[int, float, float, float]:\n",
    "        return (self.id, self.time, self.position, self.speed)\n",
    "    \n",
    "    def get_ordering() -> tuple[str, str, str]:\n",
    "        return [\"id\", \"time\", \"position\", \"speed\"]"
   ]
  },
  {
   "cell_type": "code",
   "execution_count": 4,
   "metadata": {},
   "outputs": [],
   "source": [
    "class BlockerHandler:\n",
    "    def __init__(self):\n",
    "        self.blockers = SortedSet()\n",
    "        \n",
    "    def add_blocker(self, pos: float):\n",
    "        assert pos not in self.blockers\n",
    "        self.blockers.add(pos)\n",
    "        \n",
    "    def remove_blocker(self, pos: float):\n",
    "        self.blockers.remove(pos)\n",
    "        \n",
    "    def _find_next_blocker(self, pos: float) -> float:\n",
    "        idx: int = self.blockers.bisect_left(pos)\n",
    "        \n",
    "        if idx == len(self.blockers):\n",
    "            return float(\"inf\")\n",
    "        \n",
    "        return self.blockers[idx]\n",
    "        \n",
    "    def check(self, old: float, new: float) -> float:\n",
    "        # blocker check\n",
    "        # if the next blocker changes between old/new, that means we passed a blocker\n",
    "        before: float = self._find_next_blocker(old)\n",
    "        after: float = self._find_next_blocker(new)\n",
    "        \n",
    "        # if the blocker distances are not close (i.e., they are different blockers),\n",
    "        # then we set the new target distance to before, where the blocker is since this car cannot go past that\n",
    "        if not math.isclose(before, after):\n",
    "            return before\n",
    "            \n",
    "        return new\n",
    "    \n",
    "class TrafficLight():\n",
    "    id: int = 0\n",
    "    \n",
    "    def __init__(self, env: simpy.Environment, pos: float, cycles: tuple[float, ...], blocking_states: tuple[bool, ...], handler: BlockerHandler):\n",
    "        self.pos = pos  # where the traffic light is\n",
    "        self.cycles = cycles  # list of the delays of each of the cycles\n",
    "        self.state = 0  # initial state -- an index for self.cycles\n",
    "        self.blocking_states = blocking_states  # list of whether each corresponding cycle is blocking or not\n",
    "        \n",
    "        assert self.state < len(self.cycles) and self.state >= 0\n",
    "        assert len(blocking_states) == len(cycles)\n",
    "        \n",
    "        self.id = TrafficLight.id\n",
    "        TrafficLight.id += 1\n",
    "        \n",
    "        self.handler: BlockerHandler = handler\n",
    "            \n",
    "        self.env: simpy.Environment = env\n",
    "        self.action = self.env.process(self.run())\n",
    "        \n",
    "    def run(self):\n",
    "        while True:\n",
    "            if self.blocking_states[self.state]:\n",
    "                self.handler.add_blocker(self.pos)\n",
    "            \n",
    "            yield self.env.timeout(self.cycles[self.state])\n",
    "            \n",
    "            if self.blocking_states[self.state]:\n",
    "                self.handler.remove_blocker(self.pos)\n",
    "            \n",
    "            self.state = (self.state + 1) % len(self.cycles)\n",
    "            \n",
    "    def refresh(self, env: simpy.Environment):\n",
    "        self.env = env\n",
    "        self.state = 0"
   ]
  },
  {
   "cell_type": "code",
   "execution_count": 5,
   "metadata": {},
   "outputs": [],
   "source": [
    "class Car():\n",
    "    \n",
    "    counter = 0\n",
    "    \n",
    "    def __init__(self, env: simpy.Environment, inflection_points: list[tuple[float, float]], blocker_handler: BlockerHandler, leader: Optional[list[HistoryEntry]]):\n",
    "        # start position at the given init_pos (0)\n",
    "        self.pos = 0.0\n",
    "        self.init_time = env.now\n",
    "        \n",
    "        # set initial and max speed possible\n",
    "        self.speed: float = FREEFLOW_SPEED\n",
    "        \n",
    "        self.blocker_handler = blocker_handler\n",
    "        \n",
    "        # TODO: support changes in speed here\n",
    "        \n",
    "        # give the current car an id\n",
    "        self.id = Car.counter\n",
    "        Car.counter += 1\n",
    "        \n",
    "        # variable to track a history of the points that compose the lines that the car traverses in the position-time plot\n",
    "        self.history: list[HistoryEntry] = [HistoryEntry(self.id, env.now - 0.01, self.pos - self.speed * 0.01, self.speed), HistoryEntry(self.id, env.now, self.pos, self.speed)]\n",
    "        \n",
    "        # get functions for time->position for the leader (assume piecewise linear things)\n",
    "        self.leader_query_position: Callable[[float], float] = None\n",
    "        self.leader_history: list[tuple[float, float]] = None\n",
    "        if leader is not None:\n",
    "            self.leader_query_position = interpolate.interp1d([entry.time for entry in leader], [entry.position for entry in leader], kind=\"linear\", fill_value=\"extrapolate\")\n",
    "            self.leader_history = leader\n",
    "            \n",
    "        # store reference to simpy environment\n",
    "        self.env = env\n",
    "        # define the action for the simpy environment\n",
    "        self.action = self.env.process(self.run())\n",
    "        \n",
    "        self.inflection_points = inflection_points  # reference\n",
    "        \n",
    "    def query_position(self, time: float):\n",
    "        # no reason to be querying the position of the future\n",
    "        # could be querying out of bounds positions from the past due to how spawning works\n",
    "        assert time <= self.env.now\n",
    "        \n",
    "        func = interpolate.interp1d([entry.time for entry in self.history], [entry.position for entry in self.history], kind=\"linear\", fill_value=\"extrapolate\")\n",
    "        \n",
    "        return func(time)\n",
    "    \n",
    "    def get_leader_data(self, time: float) -> int:\n",
    "        assert self.leader_history is not None\n",
    "        \n",
    "        idx = bisect_left(self.leader_history, time, key=lambda x: x.time)\n",
    "        \n",
    "        return idx\n",
    "        \n",
    "    def run(self):\n",
    "        while True:\n",
    "            yield self.env.timeout(GRANULARITY)\n",
    "            \n",
    "            _, prev_time, prev_pos, prev_speed = self.history[-1].unpack()\n",
    "            \n",
    "            # by default, just go up free flow * granularity\n",
    "            # only really works for the first car (no cars in front of it to worry about)\n",
    "            target_pos: float = prev_pos + FREEFLOW_SPEED * GRANULARITY \n",
    "            \n",
    "            # apply newell model rules\n",
    "            if self.leader_query_position is not None:\n",
    "                tau_adj = min(TAU, GRANULARITY)\n",
    "                target_pos = min(\n",
    "                    self.query_position(self.env.now - tau_adj) + FREEFLOW_SPEED * tau_adj,  # free-flow conditions; MODIFICATION, functionally equivalent\n",
    "                    self.leader_query_position(self.env.now - TAU) - DELTA  # congested conditions\n",
    "                )\n",
    "                \n",
    "            \n",
    "            # apply traffic light rules\n",
    "            target_pos = self.blocker_handler.check(prev_pos, target_pos)\n",
    "            # calculate target speed -- i.e., average speed needed to get from prev to target in GRANULARITY time\n",
    "            target_speed = (target_pos - prev_pos) / (self.env.now - prev_time)\n",
    "            \n",
    "            if math.isclose(target_speed, prev_speed):\n",
    "                self.history[-1] = HistoryEntry(self.id, self.env.now, target_pos, target_speed)\n",
    "            else:\n",
    "                # current simplification: cars can only be driving at free flow or stopped, no in-between\n",
    "                # as such, adjust things to prevent partial slopes\n",
    "                # TODO: better account for these things--e.g., car changes speed\n",
    "                if target_speed < prev_speed:\n",
    "                    target_speed = 0\n",
    "                else:\n",
    "                    prev_speed = 0\n",
    "                    target_speed = FREEFLOW_SPEED\n",
    "                    \n",
    "                # stopping from movement\n",
    "                if math.isclose(target_speed, 0) and not math.isclose(prev_speed, 0):\n",
    "                    truncated_time = self.env.now - (target_pos - prev_pos) / prev_speed\n",
    "                    self.history[-1] = HistoryEntry(self.id, truncated_time, target_pos, prev_speed)\n",
    "                    \n",
    "                    self.inflection_points.append((truncated_time, target_pos))\n",
    "                # starting from a stop\n",
    "                elif not math.isclose(target_speed, 0) and math.isclose(prev_speed, 0):\n",
    "                    truncated_time = self.env.now - (target_pos - prev_pos) / target_speed\n",
    "                    self.history[-1] = HistoryEntry(self.id, truncated_time, prev_pos, 0)\n",
    "                    \n",
    "                    self.inflection_points.append((truncated_time, prev_pos))\n",
    "                # both the start/end are not stops -- currently impossible since above assumption enforces one of target, prev\n",
    "                # speed to be 0 if they are differnet\n",
    "                else:\n",
    "                    print(target_speed, prev_speed, self.id, self.env.now, prev_time, target_pos, prev_pos)\n",
    "                    print(self.history)\n",
    "                    raise NotImplementedError(\"TODO\")\n",
    "\n",
    "                self.history.append(HistoryEntry(self.id, self.env.now, target_pos, target_speed))"
   ]
  },
  {
   "cell_type": "code",
   "execution_count": 6,
   "metadata": {},
   "outputs": [],
   "source": [
    "cars = []\n",
    "inflections = []\n",
    "light_positions = set()\n",
    "handler = BlockerHandler()\n",
    "\n",
    "def start_simulation(env: simpy.Environment, leader, offset):\n",
    "    lights: list[TrafficLight] = []\n",
    "    lights.append(TrafficLight(env, 10, [5, 5], [1, 0], handler))\n",
    "    \n",
    "    for light in lights:\n",
    "        if light.pos not in light_positions:\n",
    "            light_positions.add(light.pos)\n",
    "    \n",
    "    yield env.timeout(offset)\n",
    "    \n",
    "    c = Car(env, inflections, handler, leader)\n",
    "    \n",
    "    cars.append(c)\n",
    "    \n",
    "    while True:\n",
    "        yield env.timeout(GRANULARITY)"
   ]
  },
  {
   "cell_type": "code",
   "execution_count": 7,
   "metadata": {},
   "outputs": [],
   "source": [
    "env = simpy.Environment()\n",
    "env.process(start_simulation(env, None, 0))\n",
    "env.run(until=SIMULATION_TIME)\n",
    "\n",
    "i = 1\n",
    "while i * HEADWAY < SIMULATION_TIME:\n",
    "    env = simpy.Environment()\n",
    "    env.process(start_simulation(env, cars[-1].history, i * HEADWAY))\n",
    "    env.run(until=SIMULATION_TIME)\n",
    "    i += 1"
   ]
  },
  {
   "cell_type": "code",
   "execution_count": 8,
   "metadata": {},
   "outputs": [],
   "source": [
    "import matplotlib.axes._axes as axes\n",
    "\n",
    "def display_dt_diagram_interactive(cars: list[Car]):\n",
    "    df = pd.DataFrame(list(itertools.chain(*[[x.unpack() for x in car.history] for car in cars])), columns=HistoryEntry.get_ordering())\n",
    "    \n",
    "    fig = px.line(df, x=\"time\", y=\"position\", color=\"id\")\n",
    "    fig.update_layout(\n",
    "        showlegend=False\n",
    "    )\n",
    "    \n",
    "    return fig\n",
    "\n",
    "def display_dt_diagram_sns(cars: list[Car], light_positions: list[float]):\n",
    "    df = pd.DataFrame(list(itertools.chain(*[[x.unpack() for x in car.history] for car in cars])), columns=HistoryEntry.get_ordering())\n",
    "    \n",
    "    fig, ax = plt.subplots(figsize=(10, 7))\n",
    "    ax: axes.Axes\n",
    "    \n",
    "    sns.lineplot(data=df, x=\"time\", y=\"position\", hue=\"id\", ax=ax, palette=sns.color_palette(n_colors=1))\n",
    "    ax.get_legend().remove()\n",
    "    \n",
    "    ax.hlines(list(light_positions), xmin=ax.get_xlim()[0], xmax=ax.get_xlim()[1], linestyles=\"dotted\", colors=\"red\")\n",
    "    \n",
    "    return fig, ax"
   ]
  },
  {
   "cell_type": "code",
   "execution_count": 11,
   "metadata": {},
   "outputs": [
    {
     "name": "stderr",
     "output_type": "stream",
     "text": [
      "d:\\mambaforge\\envs\\traffic\\lib\\site-packages\\plotly\\express\\_core.py:2065: FutureWarning: When grouping with a length-1 list-like, you will need to pass a length-1 tuple to get_group in a future version of pandas. Pass `(name,)` instead of `name` to silence this warning.\n",
      "  sf: grouped.get_group(s if len(s) > 1 else s[0])\n"
     ]
    },
    {
     "data": {
      "application/vnd.plotly.v1+json": {
       "config": {
        "plotlyServerURL": "https://plot.ly"
       },
       "data": [
        {
         "hovertemplate": "id=0<br>time=%{x}<br>position=%{y}<extra></extra>",
         "legendgroup": "0",
         "line": {
          "color": "#636efa",
          "dash": "solid"
         },
         "marker": {
          "symbol": "circle"
         },
         "mode": "lines",
         "name": "0",
         "orientation": "v",
         "showlegend": true,
         "type": "scatter",
         "x": [
          -0.01,
          1.1115318539727999,
          4.999999999999938,
          19.990000000000325
         ],
         "xaxis": "x",
         "y": [
          -0.089408,
          10,
          10,
          144.02259200000216
         ],
         "yaxis": "y"
        },
        {
         "hovertemplate": "id=1<br>time=%{x}<br>position=%{y}<extra></extra>",
         "legendgroup": "1",
         "line": {
          "color": "#EF553B",
          "dash": "solid"
         },
         "marker": {
          "symbol": "circle"
         },
         "mode": "lines",
         "name": "1",
         "orientation": "v",
         "showlegend": true,
         "type": "scatter",
         "x": [
          0.99,
          2.0033786685755195,
          5.111846814602658,
          19.990000000000325
         ],
         "xaxis": "x",
         "y": [
          -0.089408,
          9,
          9,
          142.0225919999977
         ],
         "yaxis": "y"
        },
        {
         "hovertemplate": "id=2<br>time=%{x}<br>position=%{y}<extra></extra>",
         "legendgroup": "2",
         "line": {
          "color": "#00cc96",
          "dash": "solid"
         },
         "marker": {
          "symbol": "circle"
         },
         "mode": "lines",
         "name": "2",
         "orientation": "v",
         "showlegend": true,
         "type": "scatter",
         "x": [
          1.99,
          2.8952254831782187,
          5.223693629205378,
          19.990000000000325
         ],
         "xaxis": "x",
         "y": [
          -0.089408,
          8,
          8,
          140.02259199999497
         ],
         "yaxis": "y"
        },
        {
         "hovertemplate": "id=3<br>time=%{x}<br>position=%{y}<extra></extra>",
         "legendgroup": "3",
         "line": {
          "color": "#ab63fa",
          "dash": "solid"
         },
         "marker": {
          "symbol": "circle"
         },
         "mode": "lines",
         "name": "3",
         "orientation": "v",
         "showlegend": true,
         "type": "scatter",
         "x": [
          2.99,
          3.787072297780942,
          5.335540443808099,
          19.990000000000347
         ],
         "xaxis": "x",
         "y": [
          -0.089408,
          7,
          7,
          138.02259199999332
         ],
         "yaxis": "y"
        },
        {
         "hovertemplate": "id=4<br>time=%{x}<br>position=%{y}<extra></extra>",
         "legendgroup": "4",
         "line": {
          "color": "#FFA15A",
          "dash": "solid"
         },
         "marker": {
          "symbol": "circle"
         },
         "mode": "lines",
         "name": "4",
         "orientation": "v",
         "showlegend": true,
         "type": "scatter",
         "x": [
          3.99,
          4.678919112383665,
          5.447387258410819,
          19.990000000000368
         ],
         "xaxis": "x",
         "y": [
          -0.089408,
          6,
          6,
          136.0225919999922
         ],
         "yaxis": "y"
        },
        {
         "hovertemplate": "id=5<br>time=%{x}<br>position=%{y}<extra></extra>",
         "legendgroup": "5",
         "line": {
          "color": "#19d3f3",
          "dash": "solid"
         },
         "marker": {
          "symbol": "circle"
         },
         "mode": "lines",
         "name": "5",
         "orientation": "v",
         "showlegend": true,
         "type": "scatter",
         "x": [
          4.99,
          19.99000000000039
         ],
         "xaxis": "x",
         "y": [
          -0.089408,
          134.02259199999148
         ],
         "yaxis": "y"
        },
        {
         "hovertemplate": "id=6<br>time=%{x}<br>position=%{y}<extra></extra>",
         "legendgroup": "6",
         "line": {
          "color": "#FF6692",
          "dash": "solid"
         },
         "marker": {
          "symbol": "circle"
         },
         "mode": "lines",
         "name": "6",
         "orientation": "v",
         "showlegend": true,
         "type": "scatter",
         "x": [
          5.99,
          19.99000000000041
         ],
         "xaxis": "x",
         "y": [
          -0.089408,
          125.08179200000302
         ],
         "yaxis": "y"
        },
        {
         "hovertemplate": "id=7<br>time=%{x}<br>position=%{y}<extra></extra>",
         "legendgroup": "7",
         "line": {
          "color": "#B6E880",
          "dash": "solid"
         },
         "marker": {
          "symbol": "circle"
         },
         "mode": "lines",
         "name": "7",
         "orientation": "v",
         "showlegend": true,
         "type": "scatter",
         "x": [
          6.99,
          19.990000000000432
         ],
         "xaxis": "x",
         "y": [
          -0.089408,
          116.14099200000271
         ],
         "yaxis": "y"
        },
        {
         "hovertemplate": "id=8<br>time=%{x}<br>position=%{y}<extra></extra>",
         "legendgroup": "8",
         "line": {
          "color": "#FF97FF",
          "dash": "solid"
         },
         "marker": {
          "symbol": "circle"
         },
         "mode": "lines",
         "name": "8",
         "orientation": "v",
         "showlegend": true,
         "type": "scatter",
         "x": [
          7.99,
          19.990000000000453
         ],
         "xaxis": "x",
         "y": [
          -0.089408,
          107.20019200000283
         ],
         "yaxis": "y"
        },
        {
         "hovertemplate": "id=9<br>time=%{x}<br>position=%{y}<extra></extra>",
         "legendgroup": "9",
         "line": {
          "color": "#FECB52",
          "dash": "solid"
         },
         "marker": {
          "symbol": "circle"
         },
         "mode": "lines",
         "name": "9",
         "orientation": "v",
         "showlegend": true,
         "type": "scatter",
         "x": [
          8.99,
          10.111531853972776,
          14.999999999999872,
          19.990000000000475
         ],
         "xaxis": "x",
         "y": [
          -0.089408,
          10,
          10,
          54.61459199999956
         ],
         "yaxis": "y"
        },
        {
         "hovertemplate": "id=10<br>time=%{x}<br>position=%{y}<extra></extra>",
         "legendgroup": "10",
         "line": {
          "color": "#636efa",
          "dash": "solid"
         },
         "marker": {
          "symbol": "circle"
         },
         "mode": "lines",
         "name": "10",
         "orientation": "v",
         "showlegend": true,
         "type": "scatter",
         "x": [
          9.99,
          11.003378668575499,
          15.111846814602593,
          19.990000000000496
         ],
         "xaxis": "x",
         "y": [
          -0.089408,
          9,
          9,
          52.614591999998595
         ],
         "yaxis": "y"
        },
        {
         "hovertemplate": "id=11<br>time=%{x}<br>position=%{y}<extra></extra>",
         "legendgroup": "11",
         "line": {
          "color": "#EF553B",
          "dash": "solid"
         },
         "marker": {
          "symbol": "circle"
         },
         "mode": "lines",
         "name": "11",
         "orientation": "v",
         "showlegend": true,
         "type": "scatter",
         "x": [
          10.99,
          11.89522548317822,
          15.223693629205314,
          19.990000000000517
         ],
         "xaxis": "x",
         "y": [
          -0.089408,
          8,
          8,
          50.61459199999884
         ],
         "yaxis": "y"
        },
        {
         "hovertemplate": "id=12<br>time=%{x}<br>position=%{y}<extra></extra>",
         "legendgroup": "12",
         "line": {
          "color": "#00cc96",
          "dash": "solid"
         },
         "marker": {
          "symbol": "circle"
         },
         "mode": "lines",
         "name": "12",
         "orientation": "v",
         "showlegend": true,
         "type": "scatter",
         "x": [
          11.99,
          12.787072297780941,
          15.335540443808034,
          19.99000000000054
         ],
         "xaxis": "x",
         "y": [
          -0.089408,
          7,
          7,
          48.614591999999114
         ],
         "yaxis": "y"
        },
        {
         "hovertemplate": "id=13<br>time=%{x}<br>position=%{y}<extra></extra>",
         "legendgroup": "13",
         "line": {
          "color": "#ab63fa",
          "dash": "solid"
         },
         "marker": {
          "symbol": "circle"
         },
         "mode": "lines",
         "name": "13",
         "orientation": "v",
         "showlegend": true,
         "type": "scatter",
         "x": [
          12.99,
          13.678919112383664,
          15.447387258410753,
          19.99000000000056
         ],
         "xaxis": "x",
         "y": [
          -0.089408,
          6,
          6,
          46.614591999999426
         ],
         "yaxis": "y"
        },
        {
         "hovertemplate": "id=14<br>time=%{x}<br>position=%{y}<extra></extra>",
         "legendgroup": "14",
         "line": {
          "color": "#FFA15A",
          "dash": "solid"
         },
         "marker": {
          "symbol": "circle"
         },
         "mode": "lines",
         "name": "14",
         "orientation": "v",
         "showlegend": true,
         "type": "scatter",
         "x": [
          13.99,
          14.550765926986388,
          15.559234073013473,
          19.99000000000058
         ],
         "xaxis": "x",
         "y": [
          -0.089408,
          5,
          5,
          44.614591999999725
         ],
         "yaxis": "y"
        },
        {
         "hovertemplate": "id=15<br>time=%{x}<br>position=%{y}<extra></extra>",
         "legendgroup": "15",
         "line": {
          "color": "#19d3f3",
          "dash": "solid"
         },
         "marker": {
          "symbol": "circle"
         },
         "mode": "lines",
         "name": "15",
         "orientation": "v",
         "showlegend": true,
         "type": "scatter",
         "x": [
          14.99,
          15.44261274158911,
          15.671080887616194,
          19.990000000000602
         ],
         "xaxis": "x",
         "y": [
          -0.089408,
          4,
          4,
          42.61459200000005
         ],
         "yaxis": "y"
        },
        {
         "hovertemplate": "id=16<br>time=%{x}<br>position=%{y}<extra></extra>",
         "legendgroup": "16",
         "line": {
          "color": "#FF6692",
          "dash": "solid"
         },
         "marker": {
          "symbol": "circle"
         },
         "mode": "lines",
         "name": "16",
         "orientation": "v",
         "showlegend": true,
         "type": "scatter",
         "x": [
          15.99,
          19.990000000000624
         ],
         "xaxis": "x",
         "y": [
          -0.089408,
          35.673791999999835
         ],
         "yaxis": "y"
        },
        {
         "hovertemplate": "id=17<br>time=%{x}<br>position=%{y}<extra></extra>",
         "legendgroup": "17",
         "line": {
          "color": "#B6E880",
          "dash": "solid"
         },
         "marker": {
          "symbol": "circle"
         },
         "mode": "lines",
         "name": "17",
         "orientation": "v",
         "showlegend": true,
         "type": "scatter",
         "x": [
          16.99,
          19.990000000000467
         ],
         "xaxis": "x",
         "y": [
          -0.089408,
          26.73299199999988
         ],
         "yaxis": "y"
        },
        {
         "hovertemplate": "id=18<br>time=%{x}<br>position=%{y}<extra></extra>",
         "legendgroup": "18",
         "line": {
          "color": "#FF97FF",
          "dash": "solid"
         },
         "marker": {
          "symbol": "circle"
         },
         "mode": "lines",
         "name": "18",
         "orientation": "v",
         "showlegend": true,
         "type": "scatter",
         "x": [
          17.99,
          19.99000000000031
         ],
         "xaxis": "x",
         "y": [
          -0.089408,
          17.792192000000004
         ],
         "yaxis": "y"
        },
        {
         "hovertemplate": "id=19<br>time=%{x}<br>position=%{y}<extra></extra>",
         "legendgroup": "19",
         "line": {
          "color": "#FECB52",
          "dash": "solid"
         },
         "marker": {
          "symbol": "circle"
         },
         "mode": "lines",
         "name": "19",
         "orientation": "v",
         "showlegend": true,
         "type": "scatter",
         "x": [
          18.99,
          19.990000000000155
         ],
         "xaxis": "x",
         "y": [
          -0.089408,
          8.851392
         ],
         "yaxis": "y"
        }
       ],
       "layout": {
        "legend": {
         "title": {
          "text": "id"
         },
         "tracegroupgap": 0
        },
        "margin": {
         "t": 60
        },
        "showlegend": false,
        "template": {
         "data": {
          "bar": [
           {
            "error_x": {
             "color": "#2a3f5f"
            },
            "error_y": {
             "color": "#2a3f5f"
            },
            "marker": {
             "line": {
              "color": "#E5ECF6",
              "width": 0.5
             },
             "pattern": {
              "fillmode": "overlay",
              "size": 10,
              "solidity": 0.2
             }
            },
            "type": "bar"
           }
          ],
          "barpolar": [
           {
            "marker": {
             "line": {
              "color": "#E5ECF6",
              "width": 0.5
             },
             "pattern": {
              "fillmode": "overlay",
              "size": 10,
              "solidity": 0.2
             }
            },
            "type": "barpolar"
           }
          ],
          "carpet": [
           {
            "aaxis": {
             "endlinecolor": "#2a3f5f",
             "gridcolor": "white",
             "linecolor": "white",
             "minorgridcolor": "white",
             "startlinecolor": "#2a3f5f"
            },
            "baxis": {
             "endlinecolor": "#2a3f5f",
             "gridcolor": "white",
             "linecolor": "white",
             "minorgridcolor": "white",
             "startlinecolor": "#2a3f5f"
            },
            "type": "carpet"
           }
          ],
          "choropleth": [
           {
            "colorbar": {
             "outlinewidth": 0,
             "ticks": ""
            },
            "type": "choropleth"
           }
          ],
          "contour": [
           {
            "colorbar": {
             "outlinewidth": 0,
             "ticks": ""
            },
            "colorscale": [
             [
              0,
              "#0d0887"
             ],
             [
              0.1111111111111111,
              "#46039f"
             ],
             [
              0.2222222222222222,
              "#7201a8"
             ],
             [
              0.3333333333333333,
              "#9c179e"
             ],
             [
              0.4444444444444444,
              "#bd3786"
             ],
             [
              0.5555555555555556,
              "#d8576b"
             ],
             [
              0.6666666666666666,
              "#ed7953"
             ],
             [
              0.7777777777777778,
              "#fb9f3a"
             ],
             [
              0.8888888888888888,
              "#fdca26"
             ],
             [
              1,
              "#f0f921"
             ]
            ],
            "type": "contour"
           }
          ],
          "contourcarpet": [
           {
            "colorbar": {
             "outlinewidth": 0,
             "ticks": ""
            },
            "type": "contourcarpet"
           }
          ],
          "heatmap": [
           {
            "colorbar": {
             "outlinewidth": 0,
             "ticks": ""
            },
            "colorscale": [
             [
              0,
              "#0d0887"
             ],
             [
              0.1111111111111111,
              "#46039f"
             ],
             [
              0.2222222222222222,
              "#7201a8"
             ],
             [
              0.3333333333333333,
              "#9c179e"
             ],
             [
              0.4444444444444444,
              "#bd3786"
             ],
             [
              0.5555555555555556,
              "#d8576b"
             ],
             [
              0.6666666666666666,
              "#ed7953"
             ],
             [
              0.7777777777777778,
              "#fb9f3a"
             ],
             [
              0.8888888888888888,
              "#fdca26"
             ],
             [
              1,
              "#f0f921"
             ]
            ],
            "type": "heatmap"
           }
          ],
          "heatmapgl": [
           {
            "colorbar": {
             "outlinewidth": 0,
             "ticks": ""
            },
            "colorscale": [
             [
              0,
              "#0d0887"
             ],
             [
              0.1111111111111111,
              "#46039f"
             ],
             [
              0.2222222222222222,
              "#7201a8"
             ],
             [
              0.3333333333333333,
              "#9c179e"
             ],
             [
              0.4444444444444444,
              "#bd3786"
             ],
             [
              0.5555555555555556,
              "#d8576b"
             ],
             [
              0.6666666666666666,
              "#ed7953"
             ],
             [
              0.7777777777777778,
              "#fb9f3a"
             ],
             [
              0.8888888888888888,
              "#fdca26"
             ],
             [
              1,
              "#f0f921"
             ]
            ],
            "type": "heatmapgl"
           }
          ],
          "histogram": [
           {
            "marker": {
             "pattern": {
              "fillmode": "overlay",
              "size": 10,
              "solidity": 0.2
             }
            },
            "type": "histogram"
           }
          ],
          "histogram2d": [
           {
            "colorbar": {
             "outlinewidth": 0,
             "ticks": ""
            },
            "colorscale": [
             [
              0,
              "#0d0887"
             ],
             [
              0.1111111111111111,
              "#46039f"
             ],
             [
              0.2222222222222222,
              "#7201a8"
             ],
             [
              0.3333333333333333,
              "#9c179e"
             ],
             [
              0.4444444444444444,
              "#bd3786"
             ],
             [
              0.5555555555555556,
              "#d8576b"
             ],
             [
              0.6666666666666666,
              "#ed7953"
             ],
             [
              0.7777777777777778,
              "#fb9f3a"
             ],
             [
              0.8888888888888888,
              "#fdca26"
             ],
             [
              1,
              "#f0f921"
             ]
            ],
            "type": "histogram2d"
           }
          ],
          "histogram2dcontour": [
           {
            "colorbar": {
             "outlinewidth": 0,
             "ticks": ""
            },
            "colorscale": [
             [
              0,
              "#0d0887"
             ],
             [
              0.1111111111111111,
              "#46039f"
             ],
             [
              0.2222222222222222,
              "#7201a8"
             ],
             [
              0.3333333333333333,
              "#9c179e"
             ],
             [
              0.4444444444444444,
              "#bd3786"
             ],
             [
              0.5555555555555556,
              "#d8576b"
             ],
             [
              0.6666666666666666,
              "#ed7953"
             ],
             [
              0.7777777777777778,
              "#fb9f3a"
             ],
             [
              0.8888888888888888,
              "#fdca26"
             ],
             [
              1,
              "#f0f921"
             ]
            ],
            "type": "histogram2dcontour"
           }
          ],
          "mesh3d": [
           {
            "colorbar": {
             "outlinewidth": 0,
             "ticks": ""
            },
            "type": "mesh3d"
           }
          ],
          "parcoords": [
           {
            "line": {
             "colorbar": {
              "outlinewidth": 0,
              "ticks": ""
             }
            },
            "type": "parcoords"
           }
          ],
          "pie": [
           {
            "automargin": true,
            "type": "pie"
           }
          ],
          "scatter": [
           {
            "fillpattern": {
             "fillmode": "overlay",
             "size": 10,
             "solidity": 0.2
            },
            "type": "scatter"
           }
          ],
          "scatter3d": [
           {
            "line": {
             "colorbar": {
              "outlinewidth": 0,
              "ticks": ""
             }
            },
            "marker": {
             "colorbar": {
              "outlinewidth": 0,
              "ticks": ""
             }
            },
            "type": "scatter3d"
           }
          ],
          "scattercarpet": [
           {
            "marker": {
             "colorbar": {
              "outlinewidth": 0,
              "ticks": ""
             }
            },
            "type": "scattercarpet"
           }
          ],
          "scattergeo": [
           {
            "marker": {
             "colorbar": {
              "outlinewidth": 0,
              "ticks": ""
             }
            },
            "type": "scattergeo"
           }
          ],
          "scattergl": [
           {
            "marker": {
             "colorbar": {
              "outlinewidth": 0,
              "ticks": ""
             }
            },
            "type": "scattergl"
           }
          ],
          "scattermapbox": [
           {
            "marker": {
             "colorbar": {
              "outlinewidth": 0,
              "ticks": ""
             }
            },
            "type": "scattermapbox"
           }
          ],
          "scatterpolar": [
           {
            "marker": {
             "colorbar": {
              "outlinewidth": 0,
              "ticks": ""
             }
            },
            "type": "scatterpolar"
           }
          ],
          "scatterpolargl": [
           {
            "marker": {
             "colorbar": {
              "outlinewidth": 0,
              "ticks": ""
             }
            },
            "type": "scatterpolargl"
           }
          ],
          "scatterternary": [
           {
            "marker": {
             "colorbar": {
              "outlinewidth": 0,
              "ticks": ""
             }
            },
            "type": "scatterternary"
           }
          ],
          "surface": [
           {
            "colorbar": {
             "outlinewidth": 0,
             "ticks": ""
            },
            "colorscale": [
             [
              0,
              "#0d0887"
             ],
             [
              0.1111111111111111,
              "#46039f"
             ],
             [
              0.2222222222222222,
              "#7201a8"
             ],
             [
              0.3333333333333333,
              "#9c179e"
             ],
             [
              0.4444444444444444,
              "#bd3786"
             ],
             [
              0.5555555555555556,
              "#d8576b"
             ],
             [
              0.6666666666666666,
              "#ed7953"
             ],
             [
              0.7777777777777778,
              "#fb9f3a"
             ],
             [
              0.8888888888888888,
              "#fdca26"
             ],
             [
              1,
              "#f0f921"
             ]
            ],
            "type": "surface"
           }
          ],
          "table": [
           {
            "cells": {
             "fill": {
              "color": "#EBF0F8"
             },
             "line": {
              "color": "white"
             }
            },
            "header": {
             "fill": {
              "color": "#C8D4E3"
             },
             "line": {
              "color": "white"
             }
            },
            "type": "table"
           }
          ]
         },
         "layout": {
          "annotationdefaults": {
           "arrowcolor": "#2a3f5f",
           "arrowhead": 0,
           "arrowwidth": 1
          },
          "autotypenumbers": "strict",
          "coloraxis": {
           "colorbar": {
            "outlinewidth": 0,
            "ticks": ""
           }
          },
          "colorscale": {
           "diverging": [
            [
             0,
             "#8e0152"
            ],
            [
             0.1,
             "#c51b7d"
            ],
            [
             0.2,
             "#de77ae"
            ],
            [
             0.3,
             "#f1b6da"
            ],
            [
             0.4,
             "#fde0ef"
            ],
            [
             0.5,
             "#f7f7f7"
            ],
            [
             0.6,
             "#e6f5d0"
            ],
            [
             0.7,
             "#b8e186"
            ],
            [
             0.8,
             "#7fbc41"
            ],
            [
             0.9,
             "#4d9221"
            ],
            [
             1,
             "#276419"
            ]
           ],
           "sequential": [
            [
             0,
             "#0d0887"
            ],
            [
             0.1111111111111111,
             "#46039f"
            ],
            [
             0.2222222222222222,
             "#7201a8"
            ],
            [
             0.3333333333333333,
             "#9c179e"
            ],
            [
             0.4444444444444444,
             "#bd3786"
            ],
            [
             0.5555555555555556,
             "#d8576b"
            ],
            [
             0.6666666666666666,
             "#ed7953"
            ],
            [
             0.7777777777777778,
             "#fb9f3a"
            ],
            [
             0.8888888888888888,
             "#fdca26"
            ],
            [
             1,
             "#f0f921"
            ]
           ],
           "sequentialminus": [
            [
             0,
             "#0d0887"
            ],
            [
             0.1111111111111111,
             "#46039f"
            ],
            [
             0.2222222222222222,
             "#7201a8"
            ],
            [
             0.3333333333333333,
             "#9c179e"
            ],
            [
             0.4444444444444444,
             "#bd3786"
            ],
            [
             0.5555555555555556,
             "#d8576b"
            ],
            [
             0.6666666666666666,
             "#ed7953"
            ],
            [
             0.7777777777777778,
             "#fb9f3a"
            ],
            [
             0.8888888888888888,
             "#fdca26"
            ],
            [
             1,
             "#f0f921"
            ]
           ]
          },
          "colorway": [
           "#636efa",
           "#EF553B",
           "#00cc96",
           "#ab63fa",
           "#FFA15A",
           "#19d3f3",
           "#FF6692",
           "#B6E880",
           "#FF97FF",
           "#FECB52"
          ],
          "font": {
           "color": "#2a3f5f"
          },
          "geo": {
           "bgcolor": "white",
           "lakecolor": "white",
           "landcolor": "#E5ECF6",
           "showlakes": true,
           "showland": true,
           "subunitcolor": "white"
          },
          "hoverlabel": {
           "align": "left"
          },
          "hovermode": "closest",
          "mapbox": {
           "style": "light"
          },
          "paper_bgcolor": "white",
          "plot_bgcolor": "#E5ECF6",
          "polar": {
           "angularaxis": {
            "gridcolor": "white",
            "linecolor": "white",
            "ticks": ""
           },
           "bgcolor": "#E5ECF6",
           "radialaxis": {
            "gridcolor": "white",
            "linecolor": "white",
            "ticks": ""
           }
          },
          "scene": {
           "xaxis": {
            "backgroundcolor": "#E5ECF6",
            "gridcolor": "white",
            "gridwidth": 2,
            "linecolor": "white",
            "showbackground": true,
            "ticks": "",
            "zerolinecolor": "white"
           },
           "yaxis": {
            "backgroundcolor": "#E5ECF6",
            "gridcolor": "white",
            "gridwidth": 2,
            "linecolor": "white",
            "showbackground": true,
            "ticks": "",
            "zerolinecolor": "white"
           },
           "zaxis": {
            "backgroundcolor": "#E5ECF6",
            "gridcolor": "white",
            "gridwidth": 2,
            "linecolor": "white",
            "showbackground": true,
            "ticks": "",
            "zerolinecolor": "white"
           }
          },
          "shapedefaults": {
           "line": {
            "color": "#2a3f5f"
           }
          },
          "ternary": {
           "aaxis": {
            "gridcolor": "white",
            "linecolor": "white",
            "ticks": ""
           },
           "baxis": {
            "gridcolor": "white",
            "linecolor": "white",
            "ticks": ""
           },
           "bgcolor": "#E5ECF6",
           "caxis": {
            "gridcolor": "white",
            "linecolor": "white",
            "ticks": ""
           }
          },
          "title": {
           "x": 0.05
          },
          "xaxis": {
           "automargin": true,
           "gridcolor": "white",
           "linecolor": "white",
           "ticks": "",
           "title": {
            "standoff": 15
           },
           "zerolinecolor": "white",
           "zerolinewidth": 2
          },
          "yaxis": {
           "automargin": true,
           "gridcolor": "white",
           "linecolor": "white",
           "ticks": "",
           "title": {
            "standoff": 15
           },
           "zerolinecolor": "white",
           "zerolinewidth": 2
          }
         }
        },
        "xaxis": {
         "anchor": "y",
         "domain": [
          0,
          1
         ],
         "title": {
          "text": "time"
         }
        },
        "yaxis": {
         "anchor": "x",
         "domain": [
          0,
          1
         ],
         "title": {
          "text": "position"
         }
        }
       }
      }
     },
     "metadata": {},
     "output_type": "display_data"
    }
   ],
   "source": [
    "display_dt_diagram_interactive(cars)"
   ]
  },
  {
   "cell_type": "code",
   "execution_count": 235,
   "metadata": {},
   "outputs": [],
   "source": [
    "@dataclass\n",
    "class dtPoint:\n",
    "    time: float\n",
    "    position: float\n",
    "        \n",
    "    def unpack(self) -> tuple[float, float]:\n",
    "        return (self.time, self.position)\n",
    "    \n",
    "    def __eq__(self, other):\n",
    "        if not isinstance(other, dtPoint):\n",
    "            raise NotImplementedError(\"comparison not supported\")\n",
    "        \n",
    "        return math.isclose(self.time, other.time) and math.isclose(self.position, other.position)\n",
    "    \n",
    "def get_slope(point1: dtPoint, point2: dtPoint):\n",
    "    return (point1.position - point2.position) / (point1.time - point2.time)\n",
    "\n",
    "class Interface:\n",
    "    \n",
    "    def __init__(self, point: dtPoint, slope: float):\n",
    "        self.point = point\n",
    "        self.slope = slope\n",
    "        # TODO: store the state boundaries of the interface\n",
    "        \n",
    "        self.bounds: list[tuple[dtPoint, dtPoint]] = []  # limit 2, number of endpoints\n",
    "        \n",
    "    def add_cutoff(self, lower: Optional[dtPoint], upper: Optional[dtPoint]):\n",
    "        assert math.isclose(self.slope, get_slope(self.point, lower))  # along same line\n",
    "        assert math.isclose(self.slope, get_slope(self.point, upper))  # along same line\n",
    "        assert not (lower is None and upper is None)  # don't accept redundant cutoffs\n",
    "        assert lower is None or upper is None or (lower.time < upper.time)  # have lower and upper be oriented correctly\n",
    "        \n",
    "        self.bounds.append((lower, upper))  # lower, upper (with respect to time)\n",
    "        \n",
    "        if lower is None:\n",
    "            self.point = upper\n",
    "        else:\n",
    "            self.point = lower\n",
    "        \n",
    "    def resolve_endpoints(self) -> list[dtPoint]:\n",
    "        self.endpoints: list[dtPoint] = [None, None]  # lower, upper (with respect to time)\n",
    "        \n",
    "        for bounds in self.bounds:\n",
    "            lower, upper = bounds\n",
    "            \n",
    "            if lower is not None:\n",
    "                if self.endpoints[0] is None:\n",
    "                    self.endpoints[0] = lower\n",
    "                elif self.endpoints[0].time < lower.time:\n",
    "                    self.endpoints[0] = lower\n",
    "                    \n",
    "            if upper is not None:\n",
    "                if self.endpoints[1] is None:\n",
    "                    self.endpoints[1] = upper\n",
    "                elif self.endpoints[1].time > upper.time:\n",
    "                    self.endpoints[1] = upper\n",
    "                    \n",
    "        self.bounds.clear()\n",
    "                    \n",
    "        return self.endpoints\n",
    "    \n",
    "    def __eq__(self, other) -> bool:\n",
    "        if not isinstance(other, Interface):\n",
    "            raise NotImplementedError(\"comparison not supported\")\n",
    "        \n",
    "        if other.point == self.point:\n",
    "            return math.isclose(other.slope, self.slope)\n",
    "        \n",
    "        return get_slope(self.point, other.point) == other.slope and other.slope == self.slope\n",
    "            "
   ]
  },
  {
   "cell_type": "code",
   "execution_count": null,
   "metadata": {},
   "outputs": [],
   "source": [
    "# TODO: class for car following model that encapsulates all the parameters\n",
    "# vf, w, k_j\n",
    "# method to run the simulation\n",
    "# method to calculate speeds using the fundamental diagram; (q = f(flow); v_k = q / flow)\n",
    "# points on the fundamental diagram are traffic states\n",
    "    # density, density -> speed of the interface between the two ((q(k1) - q(k2)) / (k1 - k2))\n",
    "    # density -> flow, speed (of car in the state)"
   ]
  },
  {
   "cell_type": "code",
   "execution_count": 236,
   "metadata": {},
   "outputs": [
    {
     "data": {
      "text/plain": [
       "[(1.1115318539727999, 10),\n",
       " (4.999999999999938, 10),\n",
       " (2.0033786685755195, 9.0),\n",
       " (5.111846814602658, 9.0),\n",
       " (2.8952254831782187, 8.0),\n",
       " (5.223693629205378, 8.0),\n",
       " (3.787072297780942, 7.0),\n",
       " (5.335540443808099, 7.0),\n",
       " (4.678919112383665, 6.0),\n",
       " (5.447387258410819, 6.0),\n",
       " (10.111531853972776, 10),\n",
       " (14.999999999999872, 10),\n",
       " (11.003378668575499, 9.0),\n",
       " (15.111846814602593, 9.0),\n",
       " (11.89522548317822, 8.0),\n",
       " (15.223693629205314, 8.0),\n",
       " (12.787072297780941, 7.0),\n",
       " (15.335540443808034, 7.0),\n",
       " (13.678919112383664, 6.0),\n",
       " (15.447387258410753, 6.0),\n",
       " (14.550765926986388, 5.0),\n",
       " (15.559234073013473, 5.0),\n",
       " (15.44261274158911, 4.0),\n",
       " (15.671080887616194, 4.0)]"
      ]
     },
     "execution_count": 236,
     "metadata": {},
     "output_type": "execute_result"
    }
   ],
   "source": [
    "inflections"
   ]
  },
  {
   "cell_type": "code",
   "execution_count": 252,
   "metadata": {},
   "outputs": [
    {
     "data": {
      "text/plain": [
       "-1.121268791485742"
      ]
     },
     "execution_count": 252,
     "metadata": {},
     "output_type": "execute_result"
    }
   ],
   "source": [
    "1 / (1.1115318539727999 - 2.0033786685755195)"
   ]
  },
  {
   "cell_type": "code",
   "execution_count": 260,
   "metadata": {},
   "outputs": [
    {
     "data": {
      "text/plain": [
       "-1.1212687914857549"
      ]
     },
     "execution_count": 260,
     "metadata": {},
     "output_type": "execute_result"
    }
   ],
   "source": [
    "2 / (1.1115318539727999 - 2.8952254831782187)"
   ]
  },
  {
   "cell_type": "code",
   "execution_count": 262,
   "metadata": {},
   "outputs": [],
   "source": [
    "inflections_copy = [dtPoint(x[0], x[1]) for x in inflections]\n",
    "\n",
    "def find_interfaces(inflections: list[dtPoint]) -> list[Interface]:\n",
    "    interfaces: list[Interface] = []\n",
    "    \n",
    "    for i in range(len(inflections_copy)):\n",
    "        for j in range(i + 1, len(inflections_copy)):\n",
    "            for k in range(j + 1, len(inflections_copy)):\n",
    "                if math.isclose(get_slope(inflections_copy[i], inflections_copy[j]), get_slope(inflections[i], inflections_copy[k])):\n",
    "                    slope = get_slope(inflections_copy[i], inflections_copy[j])\n",
    "                    point = inflections_copy[i]\n",
    "                    \n",
    "                    # throw away any slope 0 interfaces (meaningless)\n",
    "                    if slope == 0:\n",
    "                        continue\n",
    "                    \n",
    "                    cur = Interface(point, slope)\n",
    "                    \n",
    "                    for interface in interfaces:\n",
    "                        if cur == interface:\n",
    "                            break\n",
    "                    else:\n",
    "                        interfaces.append(Interface(point, slope))\n",
    "                \n",
    "    return interfaces\n",
    "\n",
    "interfaces = find_interfaces(inflections_copy)"
   ]
  },
  {
   "cell_type": "code",
   "execution_count": 263,
   "metadata": {},
   "outputs": [
    {
     "name": "stderr",
     "output_type": "stream",
     "text": [
      "C:\\Users\\fishl\\AppData\\Local\\Temp\\ipykernel_25340\\3153777017.py:19: UserWarning:\n",
      "\n",
      "\n",
      "The palette list has fewer values (1) than needed (20) and will cycle, which may produce an uninterpretable plot.\n",
      "\n"
     ]
    },
    {
     "name": "stdout",
     "output_type": "stream",
     "text": [
      "(1.1115318539727999, 10) -1.121268791485742\n",
      "(4.999999999999938, 10) -8.940799999999987\n",
      "(2.0033786685755195, 9.0) -1.1212687914857675\n",
      "(2.8952254831782187, 8.0) -1.1212687914857375\n",
      "(10.111531853972776, 10) -1.1212687914857387\n",
      "(14.999999999999872, 10) -8.940799999999916\n",
      "(11.003378668575499, 9.0) -1.1212687914857409\n",
      "(15.111846814602593, 9.0) -8.940799999999987\n",
      "(11.89522548317822, 8.0) -1.1212687914857387\n",
      "(15.223693629205314, 8.0) -8.940800000000058\n"
     ]
    },
    {
     "data": {
      "image/png": "[encoded data removed]",
      "text/plain": [
       "<Figure size 1000x700 with 1 Axes>"
      ]
     },
     "metadata": {},
     "output_type": "display_data"
    }
   ],
   "source": [
    "import matplotlib.pyplot as plt\n",
    "\n",
    "fig, ax = display_dt_diagram_sns(cars, light_positions)\n",
    "ax: axes.Axes\n",
    "\n",
    "for interface in interfaces:\n",
    "    print(interface.point.unpack(), interface.slope)\n",
    "    ax.axline(interface.point.unpack(), slope=interface.slope, color=\"r\")"
   ]
  },
  {
   "cell_type": "code",
   "execution_count": null,
   "metadata": {},
   "outputs": [],
   "source": []
  }
 ],
 "metadata": {
  "kernelspec": {
   "display_name": "traffic",
   "language": "python",
   "name": "python3"
  },
  "language_info": {
   "codemirror_mode": {
    "name": "ipython",
    "version": 3
   },
   "file_extension": ".py",
   "mimetype": "text/x-python",
   "name": "python",
   "nbconvert_exporter": "python",
   "pygments_lexer": "ipython3",
   "version": "3.10.13"
  }
 },
 "nbformat": 4,
 "nbformat_minor": 2
}
